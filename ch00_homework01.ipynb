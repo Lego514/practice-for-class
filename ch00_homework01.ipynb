{
  "nbformat": 4,
  "nbformat_minor": 5,
  "metadata": {
    "kernelspec": {
      "display_name": "Python 3",
      "language": "python",
      "name": "python3"
    },
    "language_info": {
      "codemirror_mode": {
        "name": "ipython",
        "version": 3
      },
      "file_extension": ".py",
      "mimetype": "text/x-python",
      "name": "python",
      "nbconvert_exporter": "python",
      "pygments_lexer": "ipython3",
      "version": "3.8.8"
    },
    "colab": {
      "name": "ch00_homework01.ipynb",
      "provenance": []
    }
  },
  "cells": [
    {
      "cell_type": "markdown",
      "metadata": {
        "id": "0a8c6b6b-98be-4081-8aab-58862969f02c"
      },
      "source": [
        "# ryEx000.ipynb\n",
        "- 先熟悉一下環境\n"
      ],
      "id": "0a8c6b6b-98be-4081-8aab-58862969f02c"
    },
    {
      "cell_type": "code",
      "metadata": {
        "colab": {
          "base_uri": "https://localhost:8080/"
        },
        "id": "73e11aa3-88e1-4c2c-b155-292731910a16",
        "outputId": "9be7adeb-c4f0-4dc8-c8dc-aa5131927923"
      },
      "source": [
        "x= 8\n",
        "y= 22\n",
        "z= x+y\n",
        "\n",
        "x,y,z,y-x*y"
      ],
      "id": "73e11aa3-88e1-4c2c-b155-292731910a16",
      "execution_count": 1,
      "outputs": [
        {
          "output_type": "execute_result",
          "data": {
            "text/plain": [
              "(8, 22, 30, -154)"
            ]
          },
          "metadata": {},
          "execution_count": 1
        }
      ]
    },
    {
      "cell_type": "code",
      "metadata": {
        "colab": {
          "base_uri": "https://localhost:8080/"
        },
        "id": "31170523-3eb3-4b64-a17e-5c91b5646b7e",
        "outputId": "0d7d541b-a722-43b6-caec-988fc73b0ed8"
      },
      "source": [
        "def f(x,y):\n",
        "    z= x+y\n",
        "    return z\n",
        "\n",
        "f(1, 5)"
      ],
      "id": "31170523-3eb3-4b64-a17e-5c91b5646b7e",
      "execution_count": 2,
      "outputs": [
        {
          "output_type": "execute_result",
          "data": {
            "text/plain": [
              "6"
            ]
          },
          "metadata": {},
          "execution_count": 2
        }
      ]
    },
    {
      "cell_type": "code",
      "metadata": {
        "colab": {
          "base_uri": "https://localhost:8080/"
        },
        "id": "2bbd4c3f-ef6c-49a4-81a6-bc130d8271c1",
        "outputId": "8dc314d4-6777-441a-b6b4-5feade55de68"
      },
      "source": [
        "def add(x,y):\n",
        "    z= x+y\n",
        "    return z\n",
        "def sub(x,y):\n",
        "    z= x-y\n",
        "    return z\n",
        "def mul(x,y):\n",
        "    z= x*y\n",
        "    return z\n",
        "def div(x,y):\n",
        "    z= x/y\n",
        "    return z\n",
        "\n",
        "a= add(1,2)\n",
        "s= sub(1,2)\n",
        "m= mul(1,2)\n",
        "d= div(1,2)\n",
        "j= sub(mul(6,8),8)\n",
        "a,s,m,d,j"
      ],
      "id": "2bbd4c3f-ef6c-49a4-81a6-bc130d8271c1",
      "execution_count": 5,
      "outputs": [
        {
          "output_type": "execute_result",
          "data": {
            "text/plain": [
              "(3, -1, 2, 0.5, 40)"
            ]
          },
          "metadata": {},
          "execution_count": 5
        }
      ]
    },
    {
      "cell_type": "code",
      "metadata": {
        "colab": {
          "base_uri": "https://localhost:8080/"
        },
        "id": "edf23529-1fd1-4e0b-a853-9170d6212250",
        "outputId": "c07f5db9-6630-4ae4-fe21-b0e64aeae2b3"
      },
      "source": [
        "class Number:\n",
        "    \n",
        "    def __init__(self,x=0):\n",
        "        self.x= x\n",
        "        \n",
        "    def add(self,y):\n",
        "        z= self.x + y\n",
        "        return z\n",
        "    \n",
        "    def sub(self,y):\n",
        "        z= self.x - y\n",
        "        return z\n",
        "    \n",
        "    def mul(self,y):\n",
        "        z= self.x * y\n",
        "        return z\n",
        "    \n",
        "    def div(self,y):\n",
        "        z= self.x / y\n",
        "        return z\n",
        "\n",
        "n= Number(100)\n",
        "a= n.add(1)\n",
        "s= n.sub(1)\n",
        "m= n.mul(1)\n",
        "d= n.div(1)\n",
        "n, n.x, a, s, m, d"
      ],
      "id": "edf23529-1fd1-4e0b-a853-9170d6212250",
      "execution_count": 8,
      "outputs": [
        {
          "output_type": "execute_result",
          "data": {
            "text/plain": [
              "(<__main__.Number at 0x7f739ed313d0>, 100, 101, 99, 100, 100.0)"
            ]
          },
          "metadata": {},
          "execution_count": 8
        }
      ]
    },
    {
      "cell_type": "code",
      "metadata": {
        "colab": {
          "base_uri": "https://localhost:8080/"
        },
        "id": "1cdaad28-b170-4354-b9cf-72bdcba9c239",
        "outputId": "8d41be0a-7570-465a-e2ab-f4a4d6f28c09"
      },
      "source": [
        "# 運用繼承的觀念，繼續擴充 物件內涵\n",
        "# dunder (double under，雙底線) __xxx__\n",
        "\n",
        "class Number(Number):\n",
        "        \n",
        "    def __add__(self,y):\n",
        "        z= self.add(y)\n",
        "        return z\n",
        "    def __sub__(self,y):\n",
        "        z= self.sub(y)\n",
        "        return z\n",
        "    def __mul__(self,y):\n",
        "        z= self.mul(y)\n",
        "        return z\n",
        "    def __truediv__(self,y): # 這個除法的名稱比較特殊\n",
        "        z= self.div(y)\n",
        "        return z\n",
        "\n",
        "\n",
        "n= Number(100)\n",
        "a= n.add(5)\n",
        "s= n.sub(5)\n",
        "m= n.mul(2)\n",
        "d= n.div(3)  \n",
        "n, n.x, a, s, m, d"
      ],
      "id": "1cdaad28-b170-4354-b9cf-72bdcba9c239",
      "execution_count": 12,
      "outputs": [
        {
          "output_type": "execute_result",
          "data": {
            "text/plain": [
              "(<__main__.Number at 0x7f739ecb5910>, 100, 105, 95, 200, 33.333333333333336)"
            ]
          },
          "metadata": {},
          "execution_count": 12
        }
      ]
    },
    {
      "cell_type": "code",
      "metadata": {
        "colab": {
          "base_uri": "https://localhost:8080/"
        },
        "id": "cc349315-0cf4-43d7-b3fa-2cb84eac1321",
        "outputId": "b4bca320-070c-4f11-adf8-2d0abe5a6a85"
      },
      "source": [
        "a= n.__add__(2)\n",
        "s= n.__sub__(2)\n",
        "m= n.__mul__(2)\n",
        "d= n.__truediv__(6)\n",
        "n, n.x, a, s, m, d"
      ],
      "id": "cc349315-0cf4-43d7-b3fa-2cb84eac1321",
      "execution_count": 14,
      "outputs": [
        {
          "output_type": "execute_result",
          "data": {
            "text/plain": [
              "(<__main__.Number at 0x7f739ecb5910>, 100, 102, 98, 200, 16.666666666666668)"
            ]
          },
          "metadata": {},
          "execution_count": 14
        }
      ]
    },
    {
      "cell_type": "code",
      "metadata": {
        "colab": {
          "base_uri": "https://localhost:8080/"
        },
        "id": "d46460b5-a33a-4721-809e-a3af2165243c",
        "outputId": "038b8a25-c33a-4463-b6cd-0aae9b3f60ba"
      },
      "source": [
        "a= n+2\n",
        "s= n-2\n",
        "m= n*2\n",
        "d= n/7\n",
        "n, n.x, a, s, m, d"
      ],
      "id": "d46460b5-a33a-4721-809e-a3af2165243c",
      "execution_count": 15,
      "outputs": [
        {
          "output_type": "execute_result",
          "data": {
            "text/plain": [
              "(<__main__.Number at 0x7f739ecb5910>, 100, 102, 98, 200, 14.285714285714286)"
            ]
          },
          "metadata": {},
          "execution_count": 15
        }
      ]
    },
    {
      "cell_type": "code",
      "metadata": {
        "colab": {
          "base_uri": "https://localhost:8080/"
        },
        "id": "4d3f311b-e2a5-45e7-8c54-7494ebcb3fcb",
        "outputId": "86e9750d-e80d-41a8-d87a-247dbf58f0ae"
      },
      "source": [
        "class Number(Number):\n",
        "    \n",
        "    # print our string object\n",
        "    def __repr__(self):      # 更改 此 物件的 print() 結果。 以字串型態送出去。\n",
        "        return f'{self.x}'\n",
        "    pass\n",
        "    \n",
        "    \n",
        "n= Number(9455)\n",
        "n\n"
      ],
      "id": "4d3f311b-e2a5-45e7-8c54-7494ebcb3fcb",
      "execution_count": 17,
      "outputs": [
        {
          "output_type": "execute_result",
          "data": {
            "text/plain": [
              "9455"
            ]
          },
          "metadata": {},
          "execution_count": 17
        }
      ]
    },
    {
      "cell_type": "code",
      "metadata": {
        "colab": {
          "base_uri": "https://localhost:8080/"
        },
        "id": "9b93850a-ebb4-43ac-a831-c71e6091f365",
        "outputId": "692d3755-19eb-456a-9f97-fcebc1369396"
      },
      "source": [
        "type(n)"
      ],
      "id": "9b93850a-ebb4-43ac-a831-c71e6091f365",
      "execution_count": 18,
      "outputs": [
        {
          "output_type": "execute_result",
          "data": {
            "text/plain": [
              "__main__.Number"
            ]
          },
          "metadata": {},
          "execution_count": 18
        }
      ]
    },
    {
      "cell_type": "code",
      "metadata": {
        "id": "40a3ec41-180f-462e-9d86-052b05b3684b"
      },
      "source": [
        ""
      ],
      "id": "40a3ec41-180f-462e-9d86-052b05b3684b",
      "execution_count": null,
      "outputs": []
    },
    {
      "cell_type": "code",
      "metadata": {
        "id": "408157d8-fdb9-4b5a-974e-3e31957cf1ba"
      },
      "source": [
        "# 向量的加減乘除四則運算"
      ],
      "id": "408157d8-fdb9-4b5a-974e-3e31957cf1ba",
      "execution_count": null,
      "outputs": []
    },
    {
      "cell_type": "code",
      "metadata": {
        "colab": {
          "base_uri": "https://localhost:8080/"
        },
        "id": "95b5d434-4bf8-4022-bdca-e828a5feee33",
        "outputId": "183dc8d0-e9e0-4e88-c21e-f1d8bed43113"
      },
      "source": [
        "x= [1,2,3]\n",
        "y= [10,20,30]\n",
        "x+y"
      ],
      "id": "95b5d434-4bf8-4022-bdca-e828a5feee33",
      "execution_count": 28,
      "outputs": [
        {
          "output_type": "execute_result",
          "data": {
            "text/plain": [
              "[1, 2, 3, 10, 20, 30]"
            ]
          },
          "metadata": {},
          "execution_count": 28
        }
      ]
    },
    {
      "cell_type": "code",
      "metadata": {
        "colab": {
          "base_uri": "https://localhost:8080/"
        },
        "id": "5dd0e0d4-f7cc-4b90-a263-e4724054f225",
        "outputId": "e7329c05-226c-401f-a1eb-530496ca2190"
      },
      "source": [
        "x+2*y, "
      ],
      "id": "5dd0e0d4-f7cc-4b90-a263-e4724054f225",
      "execution_count": 29,
      "outputs": [
        {
          "output_type": "execute_result",
          "data": {
            "text/plain": [
              "([1, 2, 3, 10, 20, 30, 10, 20, 30],)"
            ]
          },
          "metadata": {},
          "execution_count": 29
        }
      ]
    },
    {
      "cell_type": "code",
      "metadata": {
        "id": "3d8fe42d-778e-439e-80da-14e638c90fe8"
      },
      "source": [
        ""
      ],
      "id": "3d8fe42d-778e-439e-80da-14e638c90fe8",
      "execution_count": null,
      "outputs": []
    },
    {
      "cell_type": "code",
      "metadata": {
        "id": "5e313db3-7ca4-4cec-b823-1f3240fe556a"
      },
      "source": [
        ""
      ],
      "id": "5e313db3-7ca4-4cec-b823-1f3240fe556a",
      "execution_count": null,
      "outputs": []
    },
    {
      "cell_type": "code",
      "metadata": {
        "id": "9f8bbfb1-22bc-41f2-a951-b1d52b0057c1"
      },
      "source": [
        "\n",
        "# Python List 的 運算 +, -, * , / 不是 我們在數學上向量、矩陣、、、等的定義方式。\n",
        "# 自己定義一個向量物件，使其符合數學上的定義！"
      ],
      "id": "9f8bbfb1-22bc-41f2-a951-b1d52b0057c1",
      "execution_count": null,
      "outputs": []
    },
    {
      "cell_type": "code",
      "metadata": {
        "colab": {
          "base_uri": "https://localhost:8080/"
        },
        "id": "1545c9ae-70ec-47b1-8df6-77a70fa94c9f",
        "outputId": "39192571-2384-49a0-b6fe-b586f040ba7b"
      },
      "source": [
        "class Vector:\n",
        "    def __init__(self, x):\n",
        "        self.x= x\n",
        "        \n",
        "    def add(self,y):    \n",
        "        z= [xi+yi for xi,yi in zip(self.x, y)]\n",
        "        return z\n",
        "\n",
        "v= Vector([1,2,3,4])\n",
        "v.add([10,20,30,40])"
      ],
      "id": "1545c9ae-70ec-47b1-8df6-77a70fa94c9f",
      "execution_count": 21,
      "outputs": [
        {
          "output_type": "execute_result",
          "data": {
            "text/plain": [
              "[11, 22, 33, 44]"
            ]
          },
          "metadata": {},
          "execution_count": 21
        }
      ]
    },
    {
      "cell_type": "code",
      "metadata": {
        "id": "537801d2-9309-48ad-9a9c-78abe47809ad"
      },
      "source": [
        "# 把它擴展成 +, - , *, / 都可以\n"
      ],
      "id": "537801d2-9309-48ad-9a9c-78abe47809ad",
      "execution_count": null,
      "outputs": []
    },
    {
      "cell_type": "code",
      "metadata": {
        "colab": {
          "base_uri": "https://localhost:8080/"
        },
        "id": "609275a2-0d7c-4f45-b8ed-574b7bc87605",
        "outputId": "7a26b56c-c9e3-40ad-cf43-da704122d218"
      },
      "source": [
        "class Vector:\n",
        "    def __init__(self, x):\n",
        "        self.x= x\n",
        "        \n",
        "    def add(self,y):    \n",
        "        z= [xi+yi for xi,yi in zip(self.x, y)]\n",
        "        return z\n",
        "    def sub(self,y):    \n",
        "        z= [xi-yi for xi,yi in zip(self.x, y)]\n",
        "        return z\n",
        "    def mul(self,y):    \n",
        "        z= [xi*yi for xi,yi in zip(self.x, y)]\n",
        "        return z\n",
        "    def div(self,y):    \n",
        "        z= [xi/yi for xi,yi in zip(self.x, y)]\n",
        "        return z\n",
        "    \n",
        "    def __add__(self,y):    \n",
        "        z= self.add(y)\n",
        "        return z\n",
        "    def __sub__(self,y):    \n",
        "        z= self.sub(y)\n",
        "        return z\n",
        "    def __mul__(self,y):    \n",
        "        z= self.mul(y)\n",
        "        return z\n",
        "    def __truediv__(self,y):    \n",
        "        z= self.div(y)\n",
        "        return z\n",
        "\n",
        "v= Vector([1,2,3,4])\n",
        "v, v.x"
      ],
      "id": "609275a2-0d7c-4f45-b8ed-574b7bc87605",
      "execution_count": 23,
      "outputs": [
        {
          "output_type": "execute_result",
          "data": {
            "text/plain": [
              "(<__main__.Vector at 0x7f739ed31190>, [1, 2, 3, 4])"
            ]
          },
          "metadata": {},
          "execution_count": 23
        }
      ]
    },
    {
      "cell_type": "code",
      "metadata": {
        "colab": {
          "base_uri": "https://localhost:8080/"
        },
        "id": "31eb2e8e-99dc-4ab0-a027-6e66be21ecfc",
        "outputId": "089ef834-4aaa-4637-87be-52107a65c748"
      },
      "source": [
        "a= v + [10,20,30,40]\n",
        "s= v - [10,20,30,40]\n",
        "m= v * [10,20,30,40]\n",
        "d= v / [10,20,30,40]\n",
        "v.x, a, s, m, d"
      ],
      "id": "31eb2e8e-99dc-4ab0-a027-6e66be21ecfc",
      "execution_count": 30,
      "outputs": [
        {
          "output_type": "execute_result",
          "data": {
            "text/plain": [
              "([1, 2, 3, 4],\n",
              " [11, 22, 33, 44],\n",
              " [-9, -18, -27, -36],\n",
              " [10, 40, 90, 160],\n",
              " [0.1, 0.1, 0.1, 0.1])"
            ]
          },
          "metadata": {},
          "execution_count": 30
        }
      ]
    },
    {
      "cell_type": "code",
      "metadata": {
        "id": "68e4b628-1b8e-4681-8ad4-c3174d8053e5"
      },
      "source": [
        ""
      ],
      "id": "68e4b628-1b8e-4681-8ad4-c3174d8053e5",
      "execution_count": null,
      "outputs": []
    },
    {
      "cell_type": "markdown",
      "metadata": {
        "id": "906fb3a0-a096-42a7-9211-6b4f99aee95e"
      },
      "source": [
        "# Numpy 就是把我們以上作的事情再進一步延伸.... 成為一個偉大的模組 (module)"
      ],
      "id": "906fb3a0-a096-42a7-9211-6b4f99aee95e"
    },
    {
      "cell_type": "code",
      "metadata": {
        "id": "b21c6f48-8b21-4491-af47-ee0b22819877"
      },
      "source": [
        ""
      ],
      "id": "b21c6f48-8b21-4491-af47-ee0b22819877",
      "execution_count": null,
      "outputs": []
    },
    {
      "cell_type": "markdown",
      "metadata": {
        "id": "dfa8a5cb-a96e-4bfc-a927-67c5b57ae5ad"
      },
      "source": [
        "# Introduction to Linear Algebra with NumPy\n",
        "\n",
        "- https://towardsdatascience.com/introduction-to-linear-algebra-with-numpy-79adeb7bc060\n"
      ],
      "id": "dfa8a5cb-a96e-4bfc-a927-67c5b57ae5ad"
    },
    {
      "cell_type": "code",
      "metadata": {
        "id": "8b319427-04cc-4d5c-8917-7487fc4bea5c"
      },
      "source": [
        "import numpy as np\n"
      ],
      "id": "8b319427-04cc-4d5c-8917-7487fc4bea5c",
      "execution_count": 31,
      "outputs": []
    },
    {
      "cell_type": "code",
      "metadata": {
        "colab": {
          "base_uri": "https://localhost:8080/"
        },
        "id": "bcd8aa35-d156-4588-b044-90b4a35497ab",
        "outputId": "aba8acab-212a-4431-c04c-5c15b02628c9"
      },
      "source": [
        "v= [10, 5, 1, 4]\n",
        "v"
      ],
      "id": "bcd8aa35-d156-4588-b044-90b4a35497ab",
      "execution_count": 35,
      "outputs": [
        {
          "output_type": "execute_result",
          "data": {
            "text/plain": [
              "[10, 5, 1, 4]"
            ]
          },
          "metadata": {},
          "execution_count": 35
        }
      ]
    },
    {
      "cell_type": "code",
      "metadata": {
        "colab": {
          "base_uri": "https://localhost:8080/"
        },
        "id": "b80523d2-62db-4d01-88a3-7efb3245ccbd",
        "outputId": "70cee53a-73dd-47fc-b346-8016be807ff5"
      },
      "source": [
        "v= np.array(v)\n",
        "v"
      ],
      "id": "b80523d2-62db-4d01-88a3-7efb3245ccbd",
      "execution_count": 36,
      "outputs": [
        {
          "output_type": "execute_result",
          "data": {
            "text/plain": [
              "array([10,  5,  1,  4])"
            ]
          },
          "metadata": {},
          "execution_count": 36
        }
      ]
    },
    {
      "cell_type": "code",
      "metadata": {
        "colab": {
          "base_uri": "https://localhost:8080/"
        },
        "id": "dddcd29c-61ec-4ac7-94a6-e9c489c20eb5",
        "outputId": "7cc09bec-5b46-4076-d563-d838eddf5580"
      },
      "source": [
        "v.shape"
      ],
      "id": "dddcd29c-61ec-4ac7-94a6-e9c489c20eb5",
      "execution_count": 37,
      "outputs": [
        {
          "output_type": "execute_result",
          "data": {
            "text/plain": [
              "(4,)"
            ]
          },
          "metadata": {},
          "execution_count": 37
        }
      ]
    },
    {
      "cell_type": "code",
      "metadata": {
        "colab": {
          "base_uri": "https://localhost:8080/"
        },
        "id": "06911887-5c8f-4923-b770-dfd5cf6c8031",
        "outputId": "b0795f94-fe16-4817-f3bf-0e1f1ef1c046"
      },
      "source": [
        "A= [[1,2,3,4],\n",
        "    [5,6,7,8]]\n",
        "A"
      ],
      "id": "06911887-5c8f-4923-b770-dfd5cf6c8031",
      "execution_count": 38,
      "outputs": [
        {
          "output_type": "execute_result",
          "data": {
            "text/plain": [
              "[[1, 2, 3, 4], [5, 6, 7, 8]]"
            ]
          },
          "metadata": {},
          "execution_count": 38
        }
      ]
    },
    {
      "cell_type": "code",
      "metadata": {
        "colab": {
          "base_uri": "https://localhost:8080/"
        },
        "id": "2cd6e02b-0391-4389-a06e-101ad8e8e154",
        "outputId": "43e0bb6c-ab75-42c3-9638-3078b14870a0"
      },
      "source": [
        "A= np.array(A)\n",
        "A"
      ],
      "id": "2cd6e02b-0391-4389-a06e-101ad8e8e154",
      "execution_count": 70,
      "outputs": [
        {
          "output_type": "execute_result",
          "data": {
            "text/plain": [
              "array([[1, 2, 3, 4],\n",
              "       [5, 6, 7, 8]])"
            ]
          },
          "metadata": {},
          "execution_count": 70
        }
      ]
    },
    {
      "cell_type": "code",
      "metadata": {
        "colab": {
          "base_uri": "https://localhost:8080/"
        },
        "id": "ed090b33-beb8-44e0-819a-06fd57591bbf",
        "outputId": "c01e3101-a5ef-4feb-80df-bad45176f908"
      },
      "source": [
        "A.shape"
      ],
      "id": "ed090b33-beb8-44e0-819a-06fd57591bbf",
      "execution_count": 71,
      "outputs": [
        {
          "output_type": "execute_result",
          "data": {
            "text/plain": [
              "(2, 4)"
            ]
          },
          "metadata": {},
          "execution_count": 71
        }
      ]
    },
    {
      "cell_type": "code",
      "metadata": {
        "colab": {
          "base_uri": "https://localhost:8080/"
        },
        "id": "6fb11686-1631-458a-91fa-5e94618b2d51",
        "outputId": "355d37f9-008f-44b0-d2a1-9e96eda3e6cc"
      },
      "source": [
        "T=[ [1,2,3,4],\n",
        "      [5,6,7,8],\n",
        "   [9,10,11,12],\n",
        "   [13,14,15,16]]\n",
        "T"
      ],
      "id": "6fb11686-1631-458a-91fa-5e94618b2d51",
      "execution_count": 49,
      "outputs": [
        {
          "output_type": "execute_result",
          "data": {
            "text/plain": [
              "[[1, 2, 3, 4], [5, 6, 7, 8], [9, 10, 11, 12], [13, 14, 15, 16]]"
            ]
          },
          "metadata": {},
          "execution_count": 49
        }
      ]
    },
    {
      "cell_type": "code",
      "metadata": {
        "colab": {
          "base_uri": "https://localhost:8080/"
        },
        "id": "b1c32e0a-a334-4b33-ac09-23b08c66814f",
        "outputId": "e0336fab-f146-4c60-c6ee-44fa6f9dca7d"
      },
      "source": [
        "T= np.array(T)\n",
        "T"
      ],
      "id": "b1c32e0a-a334-4b33-ac09-23b08c66814f",
      "execution_count": 50,
      "outputs": [
        {
          "output_type": "execute_result",
          "data": {
            "text/plain": [
              "array([[ 1,  2,  3,  4],\n",
              "       [ 5,  6,  7,  8],\n",
              "       [ 9, 10, 11, 12],\n",
              "       [13, 14, 15, 16]])"
            ]
          },
          "metadata": {},
          "execution_count": 50
        }
      ]
    },
    {
      "cell_type": "code",
      "metadata": {
        "colab": {
          "base_uri": "https://localhost:8080/"
        },
        "id": "fcc567ed-a8ef-489c-82ed-6652ad8b2a8b",
        "outputId": "77f6b6c4-febd-4029-f92c-3cd84660a8c7"
      },
      "source": [
        "T.shape"
      ],
      "id": "fcc567ed-a8ef-489c-82ed-6652ad8b2a8b",
      "execution_count": 51,
      "outputs": [
        {
          "output_type": "execute_result",
          "data": {
            "text/plain": [
              "(4, 4)"
            ]
          },
          "metadata": {},
          "execution_count": 51
        }
      ]
    },
    {
      "cell_type": "code",
      "metadata": {
        "colab": {
          "base_uri": "https://localhost:8080/"
        },
        "id": "9581bfd1-66ab-49dd-b902-6feb9c71eb36",
        "outputId": "ba052c46-6263-4e9b-b7e2-eaaeeb037037"
      },
      "source": [
        "T= T.reshape((2,2,4))\n",
        "T"
      ],
      "id": "9581bfd1-66ab-49dd-b902-6feb9c71eb36",
      "execution_count": 75,
      "outputs": [
        {
          "output_type": "execute_result",
          "data": {
            "text/plain": [
              "array([[[ 1,  2,  3,  4],\n",
              "        [ 5,  6,  7,  8]],\n",
              "\n",
              "       [[ 9, 10, 11, 12],\n",
              "        [13, 14, 15, 16]]])"
            ]
          },
          "metadata": {},
          "execution_count": 75
        }
      ]
    },
    {
      "cell_type": "code",
      "metadata": {
        "colab": {
          "base_uri": "https://localhost:8080/"
        },
        "id": "be0cf013-a469-4c6e-86af-2c298acd684c",
        "outputId": "690ddeb7-723d-425d-e4fb-b25568fee40d"
      },
      "source": [
        "T.shape"
      ],
      "id": "be0cf013-a469-4c6e-86af-2c298acd684c",
      "execution_count": 76,
      "outputs": [
        {
          "output_type": "execute_result",
          "data": {
            "text/plain": [
              "(2, 2, 4)"
            ]
          },
          "metadata": {},
          "execution_count": 76
        }
      ]
    },
    {
      "cell_type": "code",
      "metadata": {
        "colab": {
          "base_uri": "https://localhost:8080/"
        },
        "id": "d000d8cf-912b-410d-af6c-a1fe83ad10ee",
        "outputId": "981d8043-3929-41cc-a5e7-6ce3c1d44ca3"
      },
      "source": [
        "T[0]"
      ],
      "id": "d000d8cf-912b-410d-af6c-a1fe83ad10ee",
      "execution_count": 53,
      "outputs": [
        {
          "output_type": "execute_result",
          "data": {
            "text/plain": [
              "array([1, 2, 3, 4])"
            ]
          },
          "metadata": {},
          "execution_count": 53
        }
      ]
    },
    {
      "cell_type": "code",
      "metadata": {
        "colab": {
          "base_uri": "https://localhost:8080/"
        },
        "id": "01a6895a-3abf-4685-8765-b0aa3b518928",
        "outputId": "e5a1d981-27aa-41e1-e64a-92e6ff226ecb"
      },
      "source": [
        "T[1]"
      ],
      "id": "01a6895a-3abf-4685-8765-b0aa3b518928",
      "execution_count": 54,
      "outputs": [
        {
          "output_type": "execute_result",
          "data": {
            "text/plain": [
              "array([5, 6, 7, 8])"
            ]
          },
          "metadata": {},
          "execution_count": 54
        }
      ]
    },
    {
      "cell_type": "code",
      "metadata": {
        "colab": {
          "base_uri": "https://localhost:8080/"
        },
        "id": "ab4125bf-32c5-493c-9c70-b0264f898540",
        "outputId": "96120ffb-128e-42e9-b480-3a12e1d3f6ba"
      },
      "source": [
        "v.ndim"
      ],
      "id": "ab4125bf-32c5-493c-9c70-b0264f898540",
      "execution_count": 55,
      "outputs": [
        {
          "output_type": "execute_result",
          "data": {
            "text/plain": [
              "1"
            ]
          },
          "metadata": {},
          "execution_count": 55
        }
      ]
    },
    {
      "cell_type": "code",
      "metadata": {
        "colab": {
          "base_uri": "https://localhost:8080/"
        },
        "id": "6af5aec8-e60f-4d2a-92c3-aa51d077e039",
        "outputId": "8f8cee3e-9409-4bb6-ecdb-cd7434a963f1"
      },
      "source": [
        "A.ndim"
      ],
      "id": "6af5aec8-e60f-4d2a-92c3-aa51d077e039",
      "execution_count": 56,
      "outputs": [
        {
          "output_type": "execute_result",
          "data": {
            "text/plain": [
              "2"
            ]
          },
          "metadata": {},
          "execution_count": 56
        }
      ]
    },
    {
      "cell_type": "code",
      "metadata": {
        "colab": {
          "base_uri": "https://localhost:8080/"
        },
        "id": "b87659d7-e224-48d2-9d84-f6e9b4ce710f",
        "outputId": "44c875dd-b1d0-4ef4-bd56-9b142f7fb914"
      },
      "source": [
        "T.ndim"
      ],
      "id": "b87659d7-e224-48d2-9d84-f6e9b4ce710f",
      "execution_count": 57,
      "outputs": [
        {
          "output_type": "execute_result",
          "data": {
            "text/plain": [
              "2"
            ]
          },
          "metadata": {},
          "execution_count": 57
        }
      ]
    },
    {
      "cell_type": "markdown",
      "metadata": {
        "id": "95b61143-6636-4b15-adec-6b3c4031944f"
      },
      "source": [
        "![](https://miro.medium.com/max/555/0*Vh-pKXTJsdL-9FT0.png)"
      ],
      "id": "95b61143-6636-4b15-adec-6b3c4031944f"
    },
    {
      "cell_type": "code",
      "metadata": {
        "colab": {
          "base_uri": "https://localhost:8080/"
        },
        "id": "99a31865-d094-454f-901a-719680c3d1db",
        "outputId": "a7d08841-6c29-4ea3-f72d-9a4250b717e6"
      },
      "source": [
        "T4d= T.reshape(2,2,2,2)\n",
        "T4d\n"
      ],
      "id": "99a31865-d094-454f-901a-719680c3d1db",
      "execution_count": 63,
      "outputs": [
        {
          "output_type": "execute_result",
          "data": {
            "text/plain": [
              "array([[[[ 1,  2],\n",
              "         [ 3,  4]],\n",
              "\n",
              "        [[ 5,  6],\n",
              "         [ 7,  8]]],\n",
              "\n",
              "\n",
              "       [[[ 9, 10],\n",
              "         [11, 12]],\n",
              "\n",
              "        [[13, 14],\n",
              "         [15, 16]]]])"
            ]
          },
          "metadata": {},
          "execution_count": 63
        }
      ]
    },
    {
      "cell_type": "code",
      "metadata": {
        "colab": {
          "base_uri": "https://localhost:8080/"
        },
        "id": "242f2f1e-bacf-4111-8f8d-47d51ee9ccad",
        "outputId": "57b9ad00-ecd0-423c-9a01-300940c8e6df"
      },
      "source": [
        "T4d.shape"
      ],
      "id": "242f2f1e-bacf-4111-8f8d-47d51ee9ccad",
      "execution_count": 64,
      "outputs": [
        {
          "output_type": "execute_result",
          "data": {
            "text/plain": [
              "(2, 2, 2, 2)"
            ]
          },
          "metadata": {},
          "execution_count": 64
        }
      ]
    },
    {
      "cell_type": "code",
      "metadata": {
        "colab": {
          "base_uri": "https://localhost:8080/"
        },
        "id": "626ce727-77f8-45c9-823a-95656b6d8370",
        "outputId": "b892a7c5-a8b3-4e1b-efe4-abd4b3c0d95d"
      },
      "source": [
        "v, A, T, T4d"
      ],
      "id": "626ce727-77f8-45c9-823a-95656b6d8370",
      "execution_count": 65,
      "outputs": [
        {
          "output_type": "execute_result",
          "data": {
            "text/plain": [
              "(array([10,  5,  1,  4]), array([[1, 2, 3, 4],\n",
              "        [5, 6, 7, 8]]), array([[ 1,  2,  3,  4],\n",
              "        [ 5,  6,  7,  8],\n",
              "        [ 9, 10, 11, 12],\n",
              "        [13, 14, 15, 16]]), array([[[[ 1,  2],\n",
              "          [ 3,  4]],\n",
              " \n",
              "         [[ 5,  6],\n",
              "          [ 7,  8]]],\n",
              " \n",
              " \n",
              "        [[[ 9, 10],\n",
              "          [11, 12]],\n",
              " \n",
              "         [[13, 14],\n",
              "          [15, 16]]]]))"
            ]
          },
          "metadata": {},
          "execution_count": 65
        }
      ]
    },
    {
      "cell_type": "code",
      "metadata": {
        "colab": {
          "base_uri": "https://localhost:8080/"
        },
        "id": "4cae4b16-b67c-4f6f-87d4-34f5fd56390b",
        "outputId": "60b7c876-77ca-4c00-e44d-56b4519ebe57"
      },
      "source": [
        "v"
      ],
      "id": "4cae4b16-b67c-4f6f-87d4-34f5fd56390b",
      "execution_count": 66,
      "outputs": [
        {
          "output_type": "execute_result",
          "data": {
            "text/plain": [
              "array([10,  5,  1,  4])"
            ]
          },
          "metadata": {},
          "execution_count": 66
        }
      ]
    },
    {
      "cell_type": "code",
      "metadata": {
        "colab": {
          "base_uri": "https://localhost:8080/"
        },
        "id": "b849b5fe-6cc0-48aa-9d1d-492158340dd4",
        "outputId": "4ee53d11-9fa6-4390-d12d-ca6c5bf386af"
      },
      "source": [
        "v14= v.reshape(1,4)\n",
        "v14"
      ],
      "id": "b849b5fe-6cc0-48aa-9d1d-492158340dd4",
      "execution_count": 67,
      "outputs": [
        {
          "output_type": "execute_result",
          "data": {
            "text/plain": [
              "array([[10,  5,  1,  4]])"
            ]
          },
          "metadata": {},
          "execution_count": 67
        }
      ]
    },
    {
      "cell_type": "code",
      "metadata": {
        "colab": {
          "base_uri": "https://localhost:8080/"
        },
        "id": "81d9290d-2478-40eb-829e-54c0c310a2c9",
        "outputId": "4c06df96-a725-4457-93a7-ce0b140206ab"
      },
      "source": [
        "v41= v.reshape(4,1)\n",
        "v41"
      ],
      "id": "81d9290d-2478-40eb-829e-54c0c310a2c9",
      "execution_count": 68,
      "outputs": [
        {
          "output_type": "execute_result",
          "data": {
            "text/plain": [
              "array([[10],\n",
              "       [ 5],\n",
              "       [ 1],\n",
              "       [ 4]])"
            ]
          },
          "metadata": {},
          "execution_count": 68
        }
      ]
    },
    {
      "cell_type": "code",
      "metadata": {
        "colab": {
          "base_uri": "https://localhost:8080/"
        },
        "id": "0c73b8b4-9e93-428d-bbf0-ace8058ca2e0",
        "outputId": "24be4c47-d47a-40f2-b924-8b6bd43eeaba"
      },
      "source": [
        "v.shape, v14.shape, v41.shape"
      ],
      "id": "0c73b8b4-9e93-428d-bbf0-ace8058ca2e0",
      "execution_count": 69,
      "outputs": [
        {
          "output_type": "execute_result",
          "data": {
            "text/plain": [
              "((4,), (1, 4), (4, 1))"
            ]
          },
          "metadata": {},
          "execution_count": 69
        }
      ]
    },
    {
      "cell_type": "markdown",
      "metadata": {
        "id": "9c22178d-ad99-48f9-9ee9-cfca684d9670"
      },
      "source": [
        "# Vector Operations\n",
        "\n",
        "We have covered the basic structures. Now it is time to discuss basic operations that can be done on these structures.\n"
      ],
      "id": "9c22178d-ad99-48f9-9ee9-cfca684d9670"
    },
    {
      "cell_type": "code",
      "metadata": {
        "colab": {
          "base_uri": "https://localhost:8080/"
        },
        "id": "3ca05afe-a207-4705-b3cb-2a9346b2b32d",
        "outputId": "13ff7dc7-02fa-46bd-9170-d35a9d5845a9"
      },
      "source": [
        "Q = [0,1,2,3,4,5,6,7,8,9]\n",
        "Q = np.array(Q)\n",
        "Q"
      ],
      "id": "3ca05afe-a207-4705-b3cb-2a9346b2b32d",
      "execution_count": 93,
      "outputs": [
        {
          "output_type": "execute_result",
          "data": {
            "text/plain": [
              "array([0, 1, 2, 3, 4, 5, 6, 7, 8, 9])"
            ]
          },
          "metadata": {},
          "execution_count": 93
        }
      ]
    },
    {
      "cell_type": "code",
      "metadata": {
        "colab": {
          "base_uri": "https://localhost:8080/"
        },
        "id": "Qy0dF4L_A6xi",
        "outputId": "9171fe81-6505-4f28-9874-5a7789d4b89c"
      },
      "source": [
        "Q= Q.reshape(5,2)\n",
        "Q"
      ],
      "id": "Qy0dF4L_A6xi",
      "execution_count": 94,
      "outputs": [
        {
          "output_type": "execute_result",
          "data": {
            "text/plain": [
              "array([[0, 1],\n",
              "       [2, 3],\n",
              "       [4, 5],\n",
              "       [6, 7],\n",
              "       [8, 9]])"
            ]
          },
          "metadata": {},
          "execution_count": 94
        }
      ]
    },
    {
      "cell_type": "code",
      "metadata": {
        "colab": {
          "base_uri": "https://localhost:8080/"
        },
        "id": "_Qv_1O5zBIPF",
        "outputId": "efef9b76-4003-4cd1-c435-6caadf54f0e6"
      },
      "source": [
        "Q=(3*Q/2+5)*4\n",
        "Q"
      ],
      "id": "_Qv_1O5zBIPF",
      "execution_count": 95,
      "outputs": [
        {
          "output_type": "execute_result",
          "data": {
            "text/plain": [
              "array([[20., 26.],\n",
              "       [32., 38.],\n",
              "       [44., 50.],\n",
              "       [56., 62.],\n",
              "       [68., 74.]])"
            ]
          },
          "metadata": {},
          "execution_count": 95
        }
      ]
    }
  ]
}
