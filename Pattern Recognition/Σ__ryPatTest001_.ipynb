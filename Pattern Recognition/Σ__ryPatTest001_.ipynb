{
  "nbformat": 4,
  "nbformat_minor": 0,
  "metadata": {
    "colab": {
      "name": "Σ__ryPatTest001 .ipynb",
      "provenance": [],
      "collapsed_sections": []
    },
    "kernelspec": {
      "name": "python3",
      "display_name": "Python 3"
    },
    "language_info": {
      "name": "python"
    }
  },
  "cells": [
    {
      "cell_type": "code",
      "metadata": {
        "id": "T64-h9FbsDzF"
      },
      "source": [
        "import sympy as sm\n",
        "x,y,i,n= sm.symbols('x,y,i,n')\n"
      ],
      "execution_count": 2,
      "outputs": []
    },
    {
      "cell_type": "code",
      "metadata": {
        "colab": {
          "base_uri": "https://localhost:8080/",
          "height": 66
        },
        "id": "O-Gqjvsut8dh",
        "outputId": "a7e9a795-48b4-4fbf-c0d1-7d5a1dadca6e"
      },
      "source": [
        "def f(x,k):\n",
        "    y=sm.Sum(i**k,(i,1,n))\n",
        "    return y\n",
        "y= f(x,3)\n",
        "y\n"
      ],
      "execution_count": 5,
      "outputs": [
        {
          "output_type": "execute_result",
          "data": {
            "text/latex": "$\\displaystyle \\sum_{i=1}^{n} i^{3}$",
            "text/plain": [
              "Sum(i**3, (i, 1, n))"
            ]
          },
          "metadata": {},
          "execution_count": 5
        }
      ]
    },
    {
      "cell_type": "code",
      "metadata": {
        "colab": {
          "base_uri": "https://localhost:8080/",
          "height": 54
        },
        "id": "OUXEynW6t2AL",
        "outputId": "12dedcc2-6fd0-4ded-a107-e3259fc2ba18"
      },
      "source": [
        "#https://zhuanlan.zhihu.com/p/96738286\n",
        "y.doit()"
      ],
      "execution_count": 6,
      "outputs": [
        {
          "output_type": "execute_result",
          "data": {
            "text/latex": "$\\displaystyle \\frac{n^{4}}{4} + \\frac{n^{3}}{2} + \\frac{n^{2}}{4}$",
            "text/plain": [
              "n**4/4 + n**3/2 + n**2/4"
            ]
          },
          "metadata": {},
          "execution_count": 6
        }
      ]
    },
    {
      "cell_type": "code",
      "metadata": {
        "colab": {
          "base_uri": "https://localhost:8080/",
          "height": 54
        },
        "id": "_Y4yjSk4362J",
        "outputId": "dd5787e5-b8c9-40e4-d968-a0f4048f3a64"
      },
      "source": [
        "f(x,10).doit()"
      ],
      "execution_count": 7,
      "outputs": [
        {
          "output_type": "execute_result",
          "data": {
            "text/latex": "$\\displaystyle \\frac{n^{11}}{11} + \\frac{n^{10}}{2} + \\frac{5 n^{9}}{6} - n^{7} + n^{5} - \\frac{n^{3}}{2} + \\frac{5 n}{66}$",
            "text/plain": [
              "n**11/11 + n**10/2 + 5*n**9/6 - n**7 + n**5 - n**3/2 + 5*n/66"
            ]
          },
          "metadata": {},
          "execution_count": 7
        }
      ]
    },
    {
      "cell_type": "markdown",
      "metadata": {
        "id": "rqLYhrri5a6I"
      },
      "source": [
        "https://arxiv.org/pdf/1901.03798.pdf"
      ]
    },
    {
      "cell_type": "markdown",
      "metadata": {
        "id": "9V-hNclL5c5g"
      },
      "source": [
        ""
      ]
    },
    {
      "cell_type": "markdown",
      "metadata": {
        "id": "7Rho-QPQ5XPY"
      },
      "source": [
        "https://www.computer.org/csdl/search/default?queryState=%7B%22basicSearchText%22:%5Bnull,%223D%20HUMAN%22%5D,%22basicSearchTextSubmitted%22:%5B%22%22,%223D%20HUMAN%22%5D,%22doiSearchText%22:%5Bnull,%22%22%5D,%22publicationSearchTextSubmitted%22:%5B%22%22,null%5D,%22proceedingAcronymSearchTextSubmitted%22:%5B%22%22,null%5D,%22authorSearchTextSubmitted%22:%5B%22%22,null%5D,%22selectedContentTypes%22:%7B%220%22:%5B%22trans%22%5D,%22_t%22:%22a%22%7D,%22showMorePublications%22:%5Bfalse,true%5D,%22selectedPublications%22:%7B%220%22:%5B%22IEEE%20Transactions%20on%20Pattern%20Analysis%20%26%20Machine%20Intelligence%22%5D,%22_t%22:%22a%22%7D,%22searchResultLimit%22:%5B10,100%5D,%22yearFacet%22:%7B%22selectedYearRange%22:%7B%220%22:%5B2018%5D,%22_t%22:%22a%22,%22_0%22:%5B1960,0,0%5D%7D%7D%7D"
      ]
    },
    {
      "cell_type": "code",
      "metadata": {
        "id": "d0Y3TSagtE98",
        "colab": {
          "base_uri": "https://localhost:8080/",
          "height": 686
        },
        "outputId": "7867a1f3-654a-4f48-e017-dab6f01ed3a8"
      },
      "source": [
        "#professor \n",
        "i, n= sm.symbols('i, n') \n",
        "\n",
        "for k in range(5): \n",
        "\n",
        "    f= sm.Sum( i**k,(i, 1, n)) \n",
        "    結果= f.doit() \n",
        "    print(f'k= {k}') \n",
        "    print(f'f= {f}') \n",
        "    display(f) \n",
        "    display(結果) \n",
        "    print(\"-\"*10) \n",
        "\n",
        "#https://en.wikipedia.org/wiki/Faulhaber%27s_formula#Proof_with_exponential_generating_function"
      ],
      "execution_count": 8,
      "outputs": [
        {
          "output_type": "stream",
          "name": "stdout",
          "text": [
            "k= 0\n",
            "f= Sum(1, (i, 1, n))\n"
          ]
        },
        {
          "output_type": "display_data",
          "data": {
            "text/latex": "$\\displaystyle \\sum_{i=1}^{n} 1$",
            "text/plain": [
              "Sum(1, (i, 1, n))"
            ]
          },
          "metadata": {}
        },
        {
          "output_type": "display_data",
          "data": {
            "text/latex": "$\\displaystyle n$",
            "text/plain": [
              "n"
            ]
          },
          "metadata": {}
        },
        {
          "output_type": "stream",
          "name": "stdout",
          "text": [
            "----------\n",
            "k= 1\n",
            "f= Sum(i, (i, 1, n))\n"
          ]
        },
        {
          "output_type": "display_data",
          "data": {
            "text/latex": "$\\displaystyle \\sum_{i=1}^{n} i$",
            "text/plain": [
              "Sum(i, (i, 1, n))"
            ]
          },
          "metadata": {}
        },
        {
          "output_type": "display_data",
          "data": {
            "text/latex": "$\\displaystyle \\frac{n^{2}}{2} + \\frac{n}{2}$",
            "text/plain": [
              "n**2/2 + n/2"
            ]
          },
          "metadata": {}
        },
        {
          "output_type": "stream",
          "name": "stdout",
          "text": [
            "----------\n",
            "k= 2\n",
            "f= Sum(i**2, (i, 1, n))\n"
          ]
        },
        {
          "output_type": "display_data",
          "data": {
            "text/latex": "$\\displaystyle \\sum_{i=1}^{n} i^{2}$",
            "text/plain": [
              "Sum(i**2, (i, 1, n))"
            ]
          },
          "metadata": {}
        },
        {
          "output_type": "display_data",
          "data": {
            "text/latex": "$\\displaystyle \\frac{n^{3}}{3} + \\frac{n^{2}}{2} + \\frac{n}{6}$",
            "text/plain": [
              "n**3/3 + n**2/2 + n/6"
            ]
          },
          "metadata": {}
        },
        {
          "output_type": "stream",
          "name": "stdout",
          "text": [
            "----------\n",
            "k= 3\n",
            "f= Sum(i**3, (i, 1, n))\n"
          ]
        },
        {
          "output_type": "display_data",
          "data": {
            "text/latex": "$\\displaystyle \\sum_{i=1}^{n} i^{3}$",
            "text/plain": [
              "Sum(i**3, (i, 1, n))"
            ]
          },
          "metadata": {}
        },
        {
          "output_type": "display_data",
          "data": {
            "text/latex": "$\\displaystyle \\frac{n^{4}}{4} + \\frac{n^{3}}{2} + \\frac{n^{2}}{4}$",
            "text/plain": [
              "n**4/4 + n**3/2 + n**2/4"
            ]
          },
          "metadata": {}
        },
        {
          "output_type": "stream",
          "name": "stdout",
          "text": [
            "----------\n",
            "k= 4\n",
            "f= Sum(i**4, (i, 1, n))\n"
          ]
        },
        {
          "output_type": "display_data",
          "data": {
            "text/latex": "$\\displaystyle \\sum_{i=1}^{n} i^{4}$",
            "text/plain": [
              "Sum(i**4, (i, 1, n))"
            ]
          },
          "metadata": {}
        },
        {
          "output_type": "display_data",
          "data": {
            "text/latex": "$\\displaystyle \\frac{n^{5}}{5} + \\frac{n^{4}}{2} + \\frac{n^{3}}{3} - \\frac{n}{30}$",
            "text/plain": [
              "n**5/5 + n**4/2 + n**3/3 - n/30"
            ]
          },
          "metadata": {}
        },
        {
          "output_type": "stream",
          "name": "stdout",
          "text": [
            "----------\n"
          ]
        }
      ]
    },
    {
      "cell_type": "code",
      "metadata": {
        "id": "R_xYKNjIN6tM"
      },
      "source": [
        ""
      ],
      "execution_count": null,
      "outputs": []
    }
  ]
}