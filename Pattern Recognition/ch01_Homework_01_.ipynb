{
  "nbformat": 4,
  "nbformat_minor": 0,
  "metadata": {
    "colab": {
      "name": "ch01_Homework_01 .ipynb",
      "provenance": [],
      "collapsed_sections": []
    },
    "kernelspec": {
      "name": "python3",
      "display_name": "Python 3"
    },
    "language_info": {
      "name": "python"
    }
  },
  "cells": [
    {
      "cell_type": "code",
      "metadata": {
        "colab": {
          "base_uri": "https://localhost:8080/"
        },
        "id": "R8mbpak7fR08",
        "outputId": "5b13aaca-5044-46de-ee2d-37aaf23a0738"
      },
      "source": [
        "#HomeWork: \n",
        "#自己寫一個【遞迴式】的 function，來計算 Determinant ， \n",
        "#列出所有 sub-matrix 以及 其 determinant \n",
        "import numpy as np\n",
        "\n",
        "#%% \n",
        "# when n is large, it is very slow!! \n",
        "n=2\n",
        "np.random.seed(0) \n",
        "A= np.random.randint(-5,5,size=(n,n)) \n",
        "print(f'A= \\n{A}') \n",
        "det= np.linalg.det(A) \n",
        "print(f'det= {det}') \n",
        "def ryDet(A): \n",
        "    n= A.shape[0] \n",
        "    if n>1: \n",
        "        i= 0 \n",
        "        Bi=  np.delete(A, i, axis=0) \n",
        "        #print(f'\\ni= {i}, Bi= \\n{Bi}') \n",
        "        det= 0 \n",
        "        for j in range(n): \n",
        "            Bij= np.delete(Bi,j, axis=1) \n",
        "            print(f'\\ni,j= {i}{j}, Bij= \\n{Bij}') \n",
        "            Dij= ryDet(Bij) #np.linalg.det(Bij) \n",
        "            print(f'.... Dij= {Dij}') \n",
        "            Cij= A[i,j]*Dij*(-1)**(i+j) \n",
        "            det += Cij \n",
        "        #print(f'det= {det}') \n",
        "        return det \n",
        "    elif A.shape[0]==1: \n",
        "        det= A[0,0] \n",
        "        return det \n",
        "    else: \n",
        "        return None \n",
        "det= ryDet(A) \n",
        "print(f'\\ndet= {det}') "
      ],
      "execution_count": 1,
      "outputs": [
        {
          "output_type": "stream",
          "name": "stdout",
          "text": [
            "A= \n",
            "[[ 0 -5]\n",
            " [-2 -2]]\n",
            "det= -9.999999999999998\n",
            "\n",
            "i,j= 00, Bij= \n",
            "[[-2]]\n",
            ".... Dij= -2\n",
            "\n",
            "i,j= 01, Bij= \n",
            "[[-2]]\n",
            ".... Dij= -2\n",
            "\n",
            "det= -10\n"
          ]
        }
      ]
    },
    {
      "cell_type": "code",
      "metadata": {
        "colab": {
          "base_uri": "https://localhost:8080/"
        },
        "id": "ZWOQ-2SIfs43",
        "outputId": "0cb361a8-7239-4702-b9f0-64cd18dffdf4"
      },
      "source": [
        "import scipy.linalg \n",
        "\n",
        "A= [[4,3], \n",
        "    [6,3]] \n",
        "\n",
        "A= np.array(A) \n",
        "P,L,U= scipy.linalg.lu(A) \n",
        "\n",
        "# 驗算 \n",
        "print(P @ L @ U == A) \n",
        "np.isclose(P @ L @ U , A) \n",
        "print((P @ L @ U == A).all()) \n",
        "np.allclose(P @ L @ U , A) "
      ],
      "execution_count": 2,
      "outputs": [
        {
          "output_type": "stream",
          "name": "stdout",
          "text": [
            "[[ True  True]\n",
            " [ True  True]]\n",
            "True\n"
          ]
        },
        {
          "output_type": "execute_result",
          "data": {
            "text/plain": [
              "True"
            ]
          },
          "metadata": {},
          "execution_count": 2
        }
      ]
    },
    {
      "cell_type": "code",
      "metadata": {
        "colab": {
          "base_uri": "https://localhost:8080/"
        },
        "id": "J0UpKkwufvxc",
        "outputId": "c33a8bb9-fb5a-44bd-ebdd-682ec67cf2a8"
      },
      "source": [
        "A= [[12, -51, 4],  \n",
        "\n",
        "    [6, 167, -68], \n",
        "\n",
        "    [-4, 24, -41]] \n",
        "\n",
        "A= np.array(A) \n",
        "Q,R= np.linalg.qr(A)\n",
        "R"
      ],
      "execution_count": 6,
      "outputs": [
        {
          "output_type": "execute_result",
          "data": {
            "text/plain": [
              "array([[ -14.,  -21.,   14.],\n",
              "       [   0., -175.,   70.],\n",
              "       [   0.,    0.,  -35.]])"
            ]
          },
          "metadata": {},
          "execution_count": 6
        }
      ]
    }
  ]
}