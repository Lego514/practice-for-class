{
  "nbformat": 4,
  "nbformat_minor": 0,
  "metadata": {
    "colab": {
      "name": "ch01_Homework_0 ",
      "provenance": [],
      "collapsed_sections": [],
      "toc_visible": true
    },
    "kernelspec": {
      "name": "python3",
      "display_name": "Python 3"
    },
    "language_info": {
      "name": "python"
    }
  },
  "cells": [
    {
      "cell_type": "code",
      "metadata": {
        "id": "iF0Fzif8jSnb",
        "colab": {
          "base_uri": "https://localhost:8080/"
        },
        "outputId": "b4b1a6fc-e0f4-4edb-aa8e-660fc7e70edd"
      },
      "source": [
        "import numpy as np\n",
        "### 直接用solve求解\n",
        "# 寫出係數矩陣 A\n",
        "A = np.array([\n",
        "    [4, 3, 3],\n",
        "    [4, 2, 5],\n",
        "    [8, 8, 10],\n",
        "])\n",
        "# 寫出常數矩陣 B\n",
        "B = np.array([350, 360, 840]).reshape(3, 1)\n",
        "x = np.linalg.solve(A, B)\n",
        "print(\"B = \")\n",
        "print(x)\n",
        "### 驗算\n",
        "#       Ax=B\n",
        "# A^(-1)Ax=A^(-1)B\n",
        "#        x=A^(-1)B\n",
        "# 找出係數矩陣的反矩陣 A^(-1).  \"inverse A\" \n",
        "A_inv = np.linalg.inv(A)\n",
        "# 將 A_inv 與 B 相乘，即可得到解答\n",
        "y = A_inv.dot(B)\n",
        "print(\"利用反矩陣求解求出 B =\")\n",
        "print(y)\n",
        "print(\"矩陣中元素是否對應相等:\",(x==y).all())\n",
        "print(\"-------------\")"
      ],
      "execution_count": null,
      "outputs": [
        {
          "output_type": "stream",
          "name": "stdout",
          "text": [
            "B = \n",
            "[[50.]\n",
            " [30.]\n",
            " [20.]]\n",
            "利用反矩陣求解求出 B =\n",
            "[[50.]\n",
            " [30.]\n",
            " [20.]]\n",
            "矩陣中元素是否對應相等: True\n",
            "-------------\n"
          ]
        }
      ]
    },
    {
      "cell_type": "code",
      "metadata": {
        "id": "2T5kYqJaY593",
        "colab": {
          "base_uri": "https://localhost:8080/"
        },
        "outputId": "5f363fbe-6a97-4685-a486-fe9ad7d4a8a2"
      },
      "source": [
        "# n 變數 線性方程組 \n",
        "# 利用for迴圈縮短程式\n",
        "a=[3,5,10]\n",
        "for n in a:\n",
        "#依照n來創建 方陣A & 矩陣b 在-5~5之間隨機給值\n",
        "  np.random.seed(0) \n",
        "  A= np.random.randint(-5,5,size=(n,n)).reshape(n,n)\n",
        "  np.random.seed(1) \n",
        "  b= np.random.randint(-5,5,size=(n,1)).reshape(n,1)\n",
        "#利用solve求解\n",
        "  x= np.linalg.solve(A, b) \n",
        "  \n",
        "  print( \n",
        "  f''' \n",
        "n= {n}  \n",
        "A= \n",
        "{A} \n",
        "b= \n",
        "{b} \n",
        "x= \n",
        "{x} \n",
        "-------------\n",
        "  ''') "
      ],
      "execution_count": null,
      "outputs": [
        {
          "output_type": "stream",
          "name": "stdout",
          "text": [
            " \n",
            "n= 3  \n",
            "A= \n",
            "[[ 0 -5 -2]\n",
            " [-2  2  4]\n",
            " [-2  0 -3]] \n",
            "b= \n",
            "[[0]\n",
            " [3]\n",
            " [4]] \n",
            "x= \n",
            "[[-1.75806452]\n",
            " [ 0.06451613]\n",
            " [-0.16129032]] \n",
            "-------------\n",
            "  \n",
            " \n",
            "n= 5  \n",
            "A= \n",
            "[[ 0 -5 -2 -2  2]\n",
            " [ 4 -2  0 -3 -1]\n",
            " [ 2  1  3  3 -4]\n",
            " [ 1  2  2  3 -4]\n",
            " [ 0  4  3  4 -1]] \n",
            "b= \n",
            "[[ 0]\n",
            " [ 3]\n",
            " [ 4]\n",
            " [ 0]\n",
            " [-5]] \n",
            "x= \n",
            "[[-5.05357143]\n",
            " [-1.75      ]\n",
            " [ 7.30357143]\n",
            " [-5.66071429]\n",
            " [-2.73214286]] \n",
            "-------------\n",
            "  \n",
            " \n",
            "n= 10  \n",
            "A= \n",
            "[[ 0 -5 -2 -2  2  4 -2  0 -3 -1]\n",
            " [ 2  1  3  3 -4  1  2  2  3 -4]\n",
            " [ 0  4  3  4 -1 -2 -5 -2  0 -5]\n",
            " [-3 -2  3 -4 -2 -2 -2  2 -5 -4]\n",
            " [ 4  4 -5 -1  2 -2 -3  2 -3 -5]\n",
            " [-5 -1  0  0  1  3 -1 -4 -1  4]\n",
            " [ 3 -4 -4  2  4  4 -2  1  2 -3]\n",
            " [-5 -2  0  4 -1 -1  1 -1 -1 -2]\n",
            " [-1 -1  3 -1 -2  2  0  0 -5 -4]\n",
            " [ 0  4 -2 -5  0 -5 -4 -3 -1 -3]] \n",
            "b= \n",
            "[[ 0]\n",
            " [ 3]\n",
            " [ 4]\n",
            " [ 0]\n",
            " [-5]\n",
            " [-5]\n",
            " [-4]\n",
            " [ 2]\n",
            " [ 1]\n",
            " [ 4]] \n",
            "x= \n",
            "[[ 2.41026587]\n",
            " [-2.33689728]\n",
            " [-0.30247412]\n",
            " [ 0.90538128]\n",
            " [-2.84414544]\n",
            " [-1.88566993]\n",
            " [-0.59590749]\n",
            " [-2.26735821]\n",
            " [-0.75324469]\n",
            " [ 0.69925056]] \n",
            "-------------\n",
            "  \n"
          ]
        }
      ]
    },
    {
      "cell_type": "code",
      "metadata": {
        "colab": {
          "base_uri": "https://localhost:8080/"
        },
        "id": "a3iA1fSr5wE5",
        "outputId": "97e9c782-6395-4740-8c42-c76c9b4bb743"
      },
      "source": [
        "#HomeWork: \n",
        "#自己寫一個【遞迴式】的 function，來計算 Determinant ， \n",
        "#列出所有 sub-matrix 以及 其 determinant \n",
        "import numpy as np\n",
        "\n",
        "#%% \n",
        "# when n is large, it is very slow!! \n",
        "n=2\n",
        "np.random.seed(0) \n",
        "A= np.random.randint(-5,5,size=(n,n)) \n",
        "print(f'A= \\n{A}') \n",
        "det= np.linalg.det(A) \n",
        "print(f'det= {det}') \n",
        "def ryDet(A): \n",
        "    n= A.shape[0] \n",
        "    if n>1: \n",
        "        i= 0 \n",
        "        Bi=  np.delete(A, i, axis=0) \n",
        "        #print(f'\\ni= {i}, Bi= \\n{Bi}') \n",
        "        det= 0 \n",
        "        for j in range(n): \n",
        "            Bij= np.delete(Bi,j, axis=1) \n",
        "            print(f'\\ni,j= {i}{j}, Bij= \\n{Bij}') \n",
        "            Dij= ryDet(Bij) #np.linalg.det(Bij) \n",
        "            print(f'.... Dij= {Dij}') \n",
        "            Cij= A[i,j]*Dij*(-1)**(i+j) \n",
        "            det += Cij \n",
        "        #print(f'det= {det}') \n",
        "        return det \n",
        "    elif A.shape[0]==1: \n",
        "        det= A[0,0] \n",
        "        return det \n",
        "    else: \n",
        "        return None \n",
        "det= ryDet(A) \n",
        "print(f'\\ndet= {det}') "
      ],
      "execution_count": null,
      "outputs": [
        {
          "output_type": "stream",
          "name": "stdout",
          "text": [
            "A= \n",
            "[[ 0 -5]\n",
            " [-2 -2]]\n",
            "det= -9.999999999999998\n",
            "\n",
            "i,j= 00, Bij= \n",
            "[[-2]]\n",
            ".... Dij= -2\n",
            "\n",
            "i,j= 01, Bij= \n",
            "[[-2]]\n",
            ".... Dij= -2\n",
            "\n",
            "det= -10\n"
          ]
        }
      ]
    },
    {
      "cell_type": "code",
      "metadata": {
        "colab": {
          "base_uri": "https://localhost:8080/"
        },
        "id": "ZduaVCI68gM7",
        "outputId": "6d0e3f69-4e98-429c-e8ff-fbd754bb0ac8"
      },
      "source": [
        "import scipy.linalg \n",
        "\n",
        "A= [[4,3], \n",
        "    [6,3]] \n",
        "\n",
        "A= np.array(A) \n",
        "P,L,U= scipy.linalg.lu(A) \n",
        "\n",
        "# 驗算 \n",
        "print(P @ L @ U == A) \n",
        "np.isclose(P @ L @ U , A) \n",
        "print((P @ L @ U == A).all()) \n",
        "np.allclose(P @ L @ U , A) \n",
        "\n"
      ],
      "execution_count": null,
      "outputs": [
        {
          "output_type": "stream",
          "name": "stdout",
          "text": [
            "[[ True  True]\n",
            " [ True  True]]\n",
            "True\n"
          ]
        },
        {
          "output_type": "execute_result",
          "data": {
            "text/plain": [
              "True"
            ]
          },
          "metadata": {},
          "execution_count": 16
        }
      ]
    },
    {
      "cell_type": "code",
      "metadata": {
        "id": "HYdXcmFJ-ktv"
      },
      "source": [
        "A= [[12, -51, 4],  \n",
        "\n",
        "    [6, 167, -68], \n",
        "\n",
        "    [-4, 24, -41]] \n",
        "\n",
        "A= np.array(A) \n",
        "\n",
        "Q,R= np.linalg.qr(A) "
      ],
      "execution_count": null,
      "outputs": []
    }
  ]
}