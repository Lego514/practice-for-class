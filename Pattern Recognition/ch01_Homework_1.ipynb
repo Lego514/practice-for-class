{
  "nbformat": 4,
  "nbformat_minor": 0,
  "metadata": {
    "colab": {
      "name": "ch01_Homework_1.ipynb",
      "provenance": [],
      "collapsed_sections": []
    },
    "kernelspec": {
      "name": "python3",
      "display_name": "Python 3"
    },
    "language_info": {
      "name": "python"
    }
  },
  "cells": [
    {
      "cell_type": "code",
      "metadata": {
        "id": "7ya4_IL6vR5P"
      },
      "source": [
        "import os\n",
        "import sys\n",
        "import glob\n",
        "import matplotlib.pyplot as plt\n",
        "import numpy as np\n",
        "import pandas as pd\n",
        "%matplotlib inline\n",
        "%precision 4\n",
        "plt.style.use('ggplot')"
      ],
      "execution_count": null,
      "outputs": []
    },
    {
      "cell_type": "markdown",
      "metadata": {
        "id": "0yozB8yFBJzF"
      },
      "source": [
        "LU Decomposition and Gaussian Elimination¶"
      ]
    },
    {
      "cell_type": "code",
      "metadata": {
        "colab": {
          "base_uri": "https://localhost:8080/"
        },
        "id": "5EpGDNM6_GIj",
        "outputId": "89be63bb-6bfe-490f-c35a-ee4590895e6a"
      },
      "source": [
        "np.set_printoptions(suppress=True)\n",
        "\n",
        "A = np.array([[1,3,4],[2,1,3],[4,1,2]])\n",
        "\n",
        "L = np.array([[1,0,0],[2,1,0],[4,11/5,1]])\n",
        "U = np.array([[1,3,4],[0,-5,-5],[0,0,-3]])\n",
        "print(L.dot(U))\n",
        "print(L)\n",
        "print(U)"
      ],
      "execution_count": null,
      "outputs": [
        {
          "output_type": "stream",
          "name": "stdout",
          "text": [
            "[[1. 3. 4.]\n",
            " [2. 1. 3.]\n",
            " [4. 1. 2.]]\n",
            "[[1.  0.  0. ]\n",
            " [2.  1.  0. ]\n",
            " [4.  2.2 1. ]]\n",
            "[[ 1  3  4]\n",
            " [ 0 -5 -5]\n",
            " [ 0  0 -3]]\n"
          ]
        }
      ]
    },
    {
      "cell_type": "code",
      "metadata": {
        "colab": {
          "base_uri": "https://localhost:8080/"
        },
        "id": "JXeIxX5DAOJu",
        "outputId": "dbef653d-a236-4f72-dfb2-d9821b679ba4"
      },
      "source": [
        "import numpy as np\n",
        "import scipy.linalg as la\n",
        "np.set_printoptions(suppress=True)\n",
        "\n",
        "A = np.array([[1,3,4],[2,1,3],[4,1,2]])\n",
        "\n",
        "print(A)\n",
        "\n",
        "P, L, U = la.lu(A)\n",
        "print(np.dot(P.T, A))\n",
        "print\n",
        "print(np.dot(L, U))\n",
        "print(P)\n",
        "print(L)\n",
        "print(U)"
      ],
      "execution_count": null,
      "outputs": [
        {
          "output_type": "stream",
          "name": "stdout",
          "text": [
            "[[1 3 4]\n",
            " [2 1 3]\n",
            " [4 1 2]]\n",
            "[[4. 1. 2.]\n",
            " [1. 3. 4.]\n",
            " [2. 1. 3.]]\n",
            "[[4. 1. 2.]\n",
            " [1. 3. 4.]\n",
            " [2. 1. 3.]]\n",
            "[[0. 1. 0.]\n",
            " [0. 0. 1.]\n",
            " [1. 0. 0.]]\n",
            "[[1.     0.     0.    ]\n",
            " [0.25   1.     0.    ]\n",
            " [0.5    0.1818 1.    ]]\n",
            "[[4.     1.     2.    ]\n",
            " [0.     2.75   3.5   ]\n",
            " [0.     0.     1.3636]]\n"
          ]
        }
      ]
    },
    {
      "cell_type": "markdown",
      "metadata": {
        "id": "UwC9en4wBLiI"
      },
      "source": [
        "Cholesky Decomposition"
      ]
    },
    {
      "cell_type": "code",
      "metadata": {
        "colab": {
          "base_uri": "https://localhost:8080/"
        },
        "id": "SfJHwoKPAbl1",
        "outputId": "24f5d826-37ba-4a31-9d95-3666443789a2"
      },
      "source": [
        "A = np.array([[1,3,5],[3,13,23],[5,23,42]])\n",
        "L = la.cholesky(A)\n",
        "print(np.dot(L.T, L))\n",
        "\n",
        "print(L)\n",
        "print(A)"
      ],
      "execution_count": null,
      "outputs": [
        {
          "output_type": "stream",
          "name": "stdout",
          "text": [
            "[[ 1.  3.  5.]\n",
            " [ 3. 13. 23.]\n",
            " [ 5. 23. 42.]]\n",
            "[[1. 3. 5.]\n",
            " [0. 2. 4.]\n",
            " [0. 0. 1.]]\n",
            "[[ 1  3  5]\n",
            " [ 3 13 23]\n",
            " [ 5 23 42]]\n"
          ]
        }
      ]
    },
    {
      "cell_type": "markdown",
      "metadata": {
        "id": "QYN4culKI3oT"
      },
      "source": [
        "Matrix Decompositions for PCA and Least Squares\n"
      ]
    },
    {
      "cell_type": "code",
      "metadata": {
        "colab": {
          "base_uri": "https://localhost:8080/"
        },
        "id": "vjx0ck2cI5GT",
        "outputId": "627d63aa-05b1-4baf-d401-68dcc0bea46e"
      },
      "source": [
        "A = np.array([[0,1,1],[2,1,0],[3,4,5]])\n",
        "\n",
        "u, V = la.eig(A)\n",
        "print(np.dot(V,np.dot(np.diag(u), la.inv(V))))\n",
        "print(u)\n"
      ],
      "execution_count": null,
      "outputs": [
        {
          "output_type": "stream",
          "name": "stdout",
          "text": [
            "[[-0.+0.j  1.+0.j  1.+0.j]\n",
            " [ 2.+0.j  1.+0.j  0.+0.j]\n",
            " [ 3.+0.j  4.+0.j  5.+0.j]]\n",
            "[ 5.8541+0.j -0.8541+0.j  1.    +0.j]\n"
          ]
        }
      ]
    },
    {
      "cell_type": "code",
      "metadata": {
        "colab": {
          "base_uri": "https://localhost:8080/"
        },
        "id": "BVC3Vj9GI9WF",
        "outputId": "e4958fc5-9144-4893-c0f5-398f7734f71e"
      },
      "source": [
        "A = np.array([[0,1],[-1,0]])\n",
        "print(A)\n",
        "\n",
        "u, V = la.eig(A)\n",
        "print(np.dot(V,np.dot(np.diag(u), la.inv(V))))\n",
        "print(u)"
      ],
      "execution_count": null,
      "outputs": [
        {
          "output_type": "stream",
          "name": "stdout",
          "text": [
            "[[ 0  1]\n",
            " [-1  0]]\n",
            "[[ 0.+0.j  1.+0.j]\n",
            " [-1.+0.j  0.+0.j]]\n",
            "[0.+1.j 0.-1.j]\n"
          ]
        }
      ]
    },
    {
      "cell_type": "code",
      "metadata": {
        "colab": {
          "base_uri": "https://localhost:8080/"
        },
        "id": "lukILw80I-Mr",
        "outputId": "afa68659-5071-4a5c-f3ed-896d78f55490"
      },
      "source": [
        "\n",
        "# If you know the eigenvalues must be real\n",
        "# because A is a positive definite (e.g. covariance) matrix\n",
        "# use real_if_close\n",
        "\n",
        "A = np.array([[0,1,1],[2,1,0],[3,4,5]])\n",
        "u, V = la.eig(A)\n",
        "print(u)\n",
        "print(np.real_if_close(u))"
      ],
      "execution_count": null,
      "outputs": [
        {
          "output_type": "stream",
          "name": "stdout",
          "text": [
            "[ 5.8541+0.j -0.8541+0.j  1.    +0.j]\n",
            "[ 5.8541 -0.8541  1.    ]\n"
          ]
        }
      ]
    },
    {
      "cell_type": "markdown",
      "metadata": {
        "id": "AfcCKM2eJ0KP"
      },
      "source": [
        "Stabilty and Condition Number\n"
      ]
    },
    {
      "cell_type": "code",
      "metadata": {
        "colab": {
          "base_uri": "https://localhost:8080/"
        },
        "id": "N3Zd8YFWJB3-",
        "outputId": "cf9fa099-3371-439e-9b5f-9bdacd6aeb12"
      },
      "source": [
        "A = np.array([[8,6,4,1],[1,4,5,1],[8,4,1,1],[1,4,3,6]])\n",
        "b = np.array([19,11,14,14])\n",
        "la.solve(A,b)"
      ],
      "execution_count": null,
      "outputs": [
        {
          "output_type": "execute_result",
          "data": {
            "text/plain": [
              "array([1., 1., 1., 1.])"
            ]
          },
          "metadata": {},
          "execution_count": 11
        }
      ]
    },
    {
      "cell_type": "code",
      "metadata": {
        "colab": {
          "base_uri": "https://localhost:8080/"
        },
        "id": "gZDCGhCpJ2j4",
        "outputId": "df8a4edb-d0c6-4d99-9f52-408806f803ae"
      },
      "source": [
        "b = np.array([19.01,11.05,14.07,14.05])\n",
        "la.solve(A,b)"
      ],
      "execution_count": null,
      "outputs": [
        {
          "output_type": "execute_result",
          "data": {
            "text/plain": [
              "array([-2.34 ,  9.745, -4.85 , -1.34 ])"
            ]
          },
          "metadata": {},
          "execution_count": 12
        }
      ]
    },
    {
      "cell_type": "code",
      "metadata": {
        "colab": {
          "base_uri": "https://localhost:8080/"
        },
        "id": "l-qfyg08J4dY",
        "outputId": "08246d15-4e92-4693-ae5a-f91c52b5e9b1"
      },
      "source": [
        "U, s, V = np.linalg.svd(A)\n",
        "print(s)\n",
        "print(max(s)/min(s))"
      ],
      "execution_count": null,
      "outputs": [
        {
          "output_type": "stream",
          "name": "stdout",
          "text": [
            "[15.5457  6.9002  3.8363  0.0049]\n",
            "3198.6725811991305\n"
          ]
        }
      ]
    },
    {
      "cell_type": "markdown",
      "metadata": {
        "id": "mekZPOFYKO8h"
      },
      "source": [
        "**Exercises**"
      ]
    },
    {
      "cell_type": "code",
      "metadata": {
        "colab": {
          "base_uri": "https://localhost:8080/"
        },
        "id": "Phhi3Rr1KRN4",
        "outputId": "674cf735-bc2f-4877-8647-0b66b89d7e6a"
      },
      "source": [
        "import numpy as np\n",
        "import scipy.linalg as la\n",
        "#1. Compute the LU decomposition of the following matrix by hand and using numpy\n",
        "A = np.array([[1,2,3],[2,-4,6],[3,-9,-3]])\n",
        "print(A)\n",
        "#First by hand\n",
        "\n",
        "P, L, U = la.lu(A)\n",
        "print(L)\n",
        "print(U)"
      ],
      "execution_count": 1,
      "outputs": [
        {
          "output_type": "stream",
          "name": "stdout",
          "text": [
            "[[ 1  2  3]\n",
            " [ 2 -4  6]\n",
            " [ 3 -9 -3]]\n",
            "[[1.         0.         0.        ]\n",
            " [0.33333333 1.         0.        ]\n",
            " [0.66666667 0.4        1.        ]]\n",
            "[[ 3.  -9.  -3. ]\n",
            " [ 0.   5.   4. ]\n",
            " [ 0.   0.   6.4]]\n"
          ]
        }
      ]
    },
    {
      "cell_type": "code",
      "metadata": {
        "id": "UFxcquz_K5Z_",
        "colab": {
          "base_uri": "https://localhost:8080/",
          "height": 372
        },
        "outputId": "392e75fe-5414-4cfc-be94-9ad86e38f9d5"
      },
      "source": [
        "#2. Compute the Cholesky decomposition of the following matrix by hand and using numpy\n",
        "C = np.array([[1,2,3],[2,-4,6],[3,-6,-3]])\n",
        "C = np.linalg.cholesky(C)\n",
        "#Matrix is not positive definite  正定矩陣才能分解"
      ],
      "execution_count": 3,
      "outputs": [
        {
          "output_type": "error",
          "ename": "LinAlgError",
          "evalue": "ignored",
          "traceback": [
            "\u001b[0;31m---------------------------------------------------------------------------\u001b[0m",
            "\u001b[0;31mLinAlgError\u001b[0m                               Traceback (most recent call last)",
            "\u001b[0;32m<ipython-input-3-ea8396667ce9>\u001b[0m in \u001b[0;36m<module>\u001b[0;34m()\u001b[0m\n\u001b[1;32m      1\u001b[0m \u001b[0;31m#2. Compute the Cholesky decomposition of the following matrix by hand and using numpy\u001b[0m\u001b[0;34m\u001b[0m\u001b[0;34m\u001b[0m\u001b[0;34m\u001b[0m\u001b[0m\n\u001b[1;32m      2\u001b[0m \u001b[0mC\u001b[0m \u001b[0;34m=\u001b[0m \u001b[0mnp\u001b[0m\u001b[0;34m.\u001b[0m\u001b[0marray\u001b[0m\u001b[0;34m(\u001b[0m\u001b[0;34m[\u001b[0m\u001b[0;34m[\u001b[0m\u001b[0;36m1\u001b[0m\u001b[0;34m,\u001b[0m\u001b[0;36m2\u001b[0m\u001b[0;34m,\u001b[0m\u001b[0;36m3\u001b[0m\u001b[0;34m]\u001b[0m\u001b[0;34m,\u001b[0m\u001b[0;34m[\u001b[0m\u001b[0;36m2\u001b[0m\u001b[0;34m,\u001b[0m\u001b[0;34m-\u001b[0m\u001b[0;36m4\u001b[0m\u001b[0;34m,\u001b[0m\u001b[0;36m6\u001b[0m\u001b[0;34m]\u001b[0m\u001b[0;34m,\u001b[0m\u001b[0;34m[\u001b[0m\u001b[0;36m3\u001b[0m\u001b[0;34m,\u001b[0m\u001b[0;34m-\u001b[0m\u001b[0;36m6\u001b[0m\u001b[0;34m,\u001b[0m\u001b[0;34m-\u001b[0m\u001b[0;36m3\u001b[0m\u001b[0;34m]\u001b[0m\u001b[0;34m]\u001b[0m\u001b[0;34m)\u001b[0m\u001b[0;34m\u001b[0m\u001b[0;34m\u001b[0m\u001b[0m\n\u001b[0;32m----> 3\u001b[0;31m \u001b[0mC\u001b[0m \u001b[0;34m=\u001b[0m \u001b[0mnp\u001b[0m\u001b[0;34m.\u001b[0m\u001b[0mlinalg\u001b[0m\u001b[0;34m.\u001b[0m\u001b[0mcholesky\u001b[0m\u001b[0;34m(\u001b[0m\u001b[0mC\u001b[0m\u001b[0;34m)\u001b[0m\u001b[0;34m\u001b[0m\u001b[0;34m\u001b[0m\u001b[0m\n\u001b[0m",
            "\u001b[0;32m<__array_function__ internals>\u001b[0m in \u001b[0;36mcholesky\u001b[0;34m(*args, **kwargs)\u001b[0m\n",
            "\u001b[0;32m/usr/local/lib/python3.7/dist-packages/numpy/linalg/linalg.py\u001b[0m in \u001b[0;36mcholesky\u001b[0;34m(a)\u001b[0m\n\u001b[1;32m    762\u001b[0m     \u001b[0mt\u001b[0m\u001b[0;34m,\u001b[0m \u001b[0mresult_t\u001b[0m \u001b[0;34m=\u001b[0m \u001b[0m_commonType\u001b[0m\u001b[0;34m(\u001b[0m\u001b[0ma\u001b[0m\u001b[0;34m)\u001b[0m\u001b[0;34m\u001b[0m\u001b[0;34m\u001b[0m\u001b[0m\n\u001b[1;32m    763\u001b[0m     \u001b[0msignature\u001b[0m \u001b[0;34m=\u001b[0m \u001b[0;34m'D->D'\u001b[0m \u001b[0;32mif\u001b[0m \u001b[0misComplexType\u001b[0m\u001b[0;34m(\u001b[0m\u001b[0mt\u001b[0m\u001b[0;34m)\u001b[0m \u001b[0;32melse\u001b[0m \u001b[0;34m'd->d'\u001b[0m\u001b[0;34m\u001b[0m\u001b[0;34m\u001b[0m\u001b[0m\n\u001b[0;32m--> 764\u001b[0;31m     \u001b[0mr\u001b[0m \u001b[0;34m=\u001b[0m \u001b[0mgufunc\u001b[0m\u001b[0;34m(\u001b[0m\u001b[0ma\u001b[0m\u001b[0;34m,\u001b[0m \u001b[0msignature\u001b[0m\u001b[0;34m=\u001b[0m\u001b[0msignature\u001b[0m\u001b[0;34m,\u001b[0m \u001b[0mextobj\u001b[0m\u001b[0;34m=\u001b[0m\u001b[0mextobj\u001b[0m\u001b[0;34m)\u001b[0m\u001b[0;34m\u001b[0m\u001b[0;34m\u001b[0m\u001b[0m\n\u001b[0m\u001b[1;32m    765\u001b[0m     \u001b[0;32mreturn\u001b[0m \u001b[0mwrap\u001b[0m\u001b[0;34m(\u001b[0m\u001b[0mr\u001b[0m\u001b[0;34m.\u001b[0m\u001b[0mastype\u001b[0m\u001b[0;34m(\u001b[0m\u001b[0mresult_t\u001b[0m\u001b[0;34m,\u001b[0m \u001b[0mcopy\u001b[0m\u001b[0;34m=\u001b[0m\u001b[0;32mFalse\u001b[0m\u001b[0;34m)\u001b[0m\u001b[0;34m)\u001b[0m\u001b[0;34m\u001b[0m\u001b[0;34m\u001b[0m\u001b[0m\n\u001b[1;32m    766\u001b[0m \u001b[0;34m\u001b[0m\u001b[0m\n",
            "\u001b[0;32m/usr/local/lib/python3.7/dist-packages/numpy/linalg/linalg.py\u001b[0m in \u001b[0;36m_raise_linalgerror_nonposdef\u001b[0;34m(err, flag)\u001b[0m\n\u001b[1;32m     89\u001b[0m \u001b[0;34m\u001b[0m\u001b[0m\n\u001b[1;32m     90\u001b[0m \u001b[0;32mdef\u001b[0m \u001b[0m_raise_linalgerror_nonposdef\u001b[0m\u001b[0;34m(\u001b[0m\u001b[0merr\u001b[0m\u001b[0;34m,\u001b[0m \u001b[0mflag\u001b[0m\u001b[0;34m)\u001b[0m\u001b[0;34m:\u001b[0m\u001b[0;34m\u001b[0m\u001b[0;34m\u001b[0m\u001b[0m\n\u001b[0;32m---> 91\u001b[0;31m     \u001b[0;32mraise\u001b[0m \u001b[0mLinAlgError\u001b[0m\u001b[0;34m(\u001b[0m\u001b[0;34m\"Matrix is not positive definite\"\u001b[0m\u001b[0;34m)\u001b[0m\u001b[0;34m\u001b[0m\u001b[0;34m\u001b[0m\u001b[0m\n\u001b[0m\u001b[1;32m     92\u001b[0m \u001b[0;34m\u001b[0m\u001b[0m\n\u001b[1;32m     93\u001b[0m \u001b[0;32mdef\u001b[0m \u001b[0m_raise_linalgerror_eigenvalues_nonconvergence\u001b[0m\u001b[0;34m(\u001b[0m\u001b[0merr\u001b[0m\u001b[0;34m,\u001b[0m \u001b[0mflag\u001b[0m\u001b[0;34m)\u001b[0m\u001b[0;34m:\u001b[0m\u001b[0;34m\u001b[0m\u001b[0;34m\u001b[0m\u001b[0m\n",
            "\u001b[0;31mLinAlgError\u001b[0m: Matrix is not positive definite"
          ]
        }
      ]
    },
    {
      "cell_type": "code",
      "metadata": {
        "id": "gXsZZXNxK5kW",
        "colab": {
          "base_uri": "https://localhost:8080/"
        },
        "outputId": "66b90b11-e0d2-49dc-dc9b-a95d39c9ee2f"
      },
      "source": [
        "#3. Write a function in Python to solve a system\n",
        "#using SVD decomposition. Your function should take A and b as input and return x\n",
        "#Your function should include the following:\n",
        "\n",
        "#First, check that A is invertible - return error message if it is not\n",
        "#Invert A using SVD and solve return x\n",
        "#Test your function for correctness.\n",
        "def svdsolver(A,b):\n",
        "    U, s, V = np.linalg.svd(A)\n",
        "    if np.prod(s) == 0:\n",
        "       print(\"Matrix is singular\")\n",
        "    else:\n",
        "       return np.dot(np.dot((V.T).dot(np.diag(s**(-1))), U.T),b)\n",
        "A = np.array([[1,1],[1,2]])\n",
        "b = np.array([3,1])\n",
        "print(np.linalg.solve(A,b))\n",
        "print(svdsolver(A,b))"
      ],
      "execution_count": 4,
      "outputs": [
        {
          "output_type": "stream",
          "name": "stdout",
          "text": [
            "[ 5. -2.]\n",
            "[ 5. -2.]\n"
          ]
        }
      ]
    }
  ]
}