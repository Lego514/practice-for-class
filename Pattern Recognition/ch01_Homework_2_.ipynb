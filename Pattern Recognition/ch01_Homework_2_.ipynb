{
  "nbformat": 4,
  "nbformat_minor": 0,
  "metadata": {
    "colab": {
      "name": "ch01_Homework_2 .ipynb",
      "provenance": [],
      "collapsed_sections": []
    },
    "kernelspec": {
      "name": "python3",
      "display_name": "Python 3"
    },
    "language_info": {
      "name": "python"
    }
  },
  "cells": [
    {
      "cell_type": "code",
      "metadata": {
        "id": "gJRksBBynXiQ"
      },
      "source": [
        "#Ch01: Linear Algebra\n",
        "\n",
        "x= 1\n",
        "y= 1.0\n",
        "z= 1+1j\n",
        "#%%\n",
        "aList= [1,2,3]\n",
        "aSet=  {10,20,30}\n",
        "aDict= {'a':1, 'b':2, 'c':3}"
      ],
      "execution_count": 3,
      "outputs": []
    },
    {
      "cell_type": "code",
      "metadata": {
        "colab": {
          "base_uri": "https://localhost:8080/"
        },
        "id": "7noWMe75nkry",
        "outputId": "445ac72f-69e2-44aa-ad48-1832a95e09fb"
      },
      "source": [
        "import numpy as np\n",
        "\n",
        "v= [10, 20, 30]\n",
        "v= np.array(v)\n",
        "\n",
        "A= [[1, 2, 3],\n",
        "    [4, 5, 6]]\n",
        "A= np.array(A)\n",
        "A"
      ],
      "execution_count": 5,
      "outputs": [
        {
          "output_type": "execute_result",
          "data": {
            "text/plain": [
              "array([[1, 2, 3],\n",
              "       [4, 5, 6]])"
            ]
          },
          "metadata": {},
          "execution_count": 5
        }
      ]
    },
    {
      "cell_type": "code",
      "metadata": {
        "colab": {
          "base_uri": "https://localhost:8080/"
        },
        "id": "L6RiGeDsnuZX",
        "outputId": "f27ebf6c-ad52-4054-b055-a031763fbeb8"
      },
      "source": [
        "v1= [10, 20, 30]\n",
        "v2= [40, 50, 60]\n",
        "\n",
        "v1= np.array(v1)\n",
        "v2= np.array(v2)\n",
        "#%%\n",
        "B= np.arange(2*3*4)\n",
        "#%%\n",
        "B= B.reshape(2,3,4)\n",
        "B"
      ],
      "execution_count": 7,
      "outputs": [
        {
          "output_type": "execute_result",
          "data": {
            "text/plain": [
              "array([[[ 0,  1,  2,  3],\n",
              "        [ 4,  5,  6,  7],\n",
              "        [ 8,  9, 10, 11]],\n",
              "\n",
              "       [[12, 13, 14, 15],\n",
              "        [16, 17, 18, 19],\n",
              "        [20, 21, 22, 23]]])"
            ]
          },
          "metadata": {},
          "execution_count": 7
        }
      ]
    },
    {
      "cell_type": "code",
      "metadata": {
        "id": "ULkeCLE2n4zb"
      },
      "source": [
        "import sympy as sy\n",
        "x,y,z= sy.symbols('x,y,z')\n",
        "\n",
        "from sympy import MatrixSymbol, Matrix"
      ],
      "execution_count": 8,
      "outputs": []
    },
    {
      "cell_type": "code",
      "metadata": {
        "colab": {
          "base_uri": "https://localhost:8080/"
        },
        "id": "TspIOsIbn-Sr",
        "outputId": "4055f6d0-8a4e-4586-837c-7966238c371c"
      },
      "source": [
        "# Solve linear equations\n",
        "########################\n",
        "\n",
        "A= [[1,-2],\n",
        "    [2, 1]]\n",
        "A= np.array(A)\n",
        "\n",
        "b= [1,7]\n",
        "b= np.array(b)\n",
        "b= b.reshape(2,1)\n",
        "\n",
        "#[sol]\n",
        "x= np.linalg.solve(A,b)\n",
        "print(x)\n",
        "# 驗算\n",
        "A@x == b \n",
        "print(np.isclose(A@x, b))\n",
        "\n",
        "# [sol2[]\n",
        "\n",
        "x1= np.linalg.inv(A) @ b\n",
        "print(x1)\n",
        "# 驗算\n",
        "A@x1 == b\n",
        "print(np.isclose(A@x1, b)) "
      ],
      "execution_count": 15,
      "outputs": [
        {
          "output_type": "stream",
          "name": "stdout",
          "text": [
            "[[3.]\n",
            " [1.]]\n",
            "[[ True]\n",
            " [ True]]\n",
            "[[3.]\n",
            " [1.]]\n",
            "[[ True]\n",
            " [ True]]\n"
          ]
        }
      ]
    },
    {
      "cell_type": "code",
      "metadata": {
        "colab": {
          "base_uri": "https://localhost:8080/"
        },
        "id": "gGtYq-_-oril",
        "outputId": "00668026-bdf5-4cdd-bae0-033b4d8df169"
      },
      "source": [
        "# n 變數 線性方程組\n",
        "\n",
        "n= 3 #np.random.randint(2,10)\n",
        "\n",
        "np.random.seed(0)\n",
        "A= np.random.randint(-5,5,size=(n,n))\n",
        "\n",
        "np.random.seed(1)\n",
        "b= np.random.randint(-5,5,size=(n,1))\n",
        "\n",
        "x= np.linalg.solve(A, b)\n",
        "\n",
        "print(\n",
        "f'''\n",
        "n= \n",
        "{n}, \n",
        "A= \n",
        "{A}\n",
        "b= \n",
        "{b}\n",
        "x= \n",
        "{x}\n",
        "''')"
      ],
      "execution_count": 19,
      "outputs": [
        {
          "output_type": "stream",
          "name": "stdout",
          "text": [
            "\n",
            "n= \n",
            "3, \n",
            "A= \n",
            "[[ 0 -5 -2]\n",
            " [-2  2  4]\n",
            " [-2  0 -3]]\n",
            "b= \n",
            "[[0]\n",
            " [3]\n",
            " [4]]\n",
            "x= \n",
            "[[-1.75806452]\n",
            " [ 0.06451613]\n",
            " [-0.16129032]]\n",
            "\n"
          ]
        }
      ]
    },
    {
      "cell_type": "code",
      "metadata": {
        "colab": {
          "base_uri": "https://localhost:8080/"
        },
        "id": "I8Tw9Gbao5Jz",
        "outputId": "ba404fc1-c702-4630-8b25-8a3212750c14"
      },
      "source": [
        "invA= np.linalg.inv(A)\n",
        "\n",
        "x1= invA @ b\n",
        "\n",
        "print(\n",
        "f'''\n",
        "n= \n",
        "{n}, \n",
        "A= \n",
        "{A}\n",
        "invA=\n",
        "{invA}\n",
        "b= \n",
        "{b}\n",
        "x1= \n",
        "{x1}\n",
        "''')\n",
        "\n",
        "#%%\n",
        "# 驗算\n",
        "validation= np.isclose(A@x, b)\n",
        "print(validation)\n",
        "\n",
        "validation= np.isclose(A@x1, b)\n",
        "print(validation)"
      ],
      "execution_count": 20,
      "outputs": [
        {
          "output_type": "stream",
          "name": "stdout",
          "text": [
            "\n",
            "n= \n",
            "3, \n",
            "A= \n",
            "[[ 0 -5 -2]\n",
            " [-2  2  4]\n",
            " [-2  0 -3]]\n",
            "invA=\n",
            "[[-0.09677419 -0.24193548 -0.25806452]\n",
            " [-0.22580645 -0.06451613  0.06451613]\n",
            " [ 0.06451613  0.16129032 -0.16129032]]\n",
            "b= \n",
            "[[0]\n",
            " [3]\n",
            " [4]]\n",
            "x1= \n",
            "[[-1.75806452]\n",
            " [ 0.06451613]\n",
            " [-0.16129032]]\n",
            "\n",
            "[[ True]\n",
            " [ True]\n",
            " [ True]]\n",
            "[[ True]\n",
            " [ True]\n",
            " [ True]]\n"
          ]
        }
      ]
    },
    {
      "cell_type": "code",
      "metadata": {
        "colab": {
          "base_uri": "https://localhost:8080/"
        },
        "id": "2xPGjuuPpFAe",
        "outputId": "c2917597-070a-4bc1-d3e8-4e7c7eeb3fd2"
      },
      "source": [
        "# HomeWork:\n",
        "# 自己寫一個遞迴式的 function，來計算 Determinant \n",
        "\n",
        "\n",
        "n= 4 \n",
        "\n",
        "np.random.seed(0)\n",
        "A= np.random.randint(-5,5,size=(n,n))\n",
        "print(f'A= \\n{A}')\n",
        "\n",
        "det= np.linalg.det(A)\n",
        "print(f'det= {det}')\n"
      ],
      "execution_count": 22,
      "outputs": [
        {
          "output_type": "stream",
          "name": "stdout",
          "text": [
            "A= \n",
            "[[ 0 -5 -2 -2]\n",
            " [ 2  4 -2  0]\n",
            " [-3 -1  2  1]\n",
            " [ 3  3 -4  1]]\n",
            "det= -63.99999999999998\n"
          ]
        }
      ]
    },
    {
      "cell_type": "code",
      "metadata": {
        "colab": {
          "base_uri": "https://localhost:8080/"
        },
        "id": "o8yR373opMJW",
        "outputId": "97892045-ba7b-4040-ed9c-caa895506185"
      },
      "source": [
        "#Determinant\n",
        "\n",
        "i= 0\n",
        "det= 0\n",
        "for j in range(n):\n",
        "    Bi=  np.delete(A, i, axis=0)\n",
        "    Bij= np.delete(Bi,j, axis=1)\n",
        "    Bij= np.linalg.det(Bij)\n",
        "    Aij= A[i,j]*Bij*(-1)**(i+j)\n",
        "    det += Aij\n",
        "print(f'det= {det}')\n",
        "\n",
        "#%%\n",
        "\n",
        "j= 0\n",
        "det= 0\n",
        "for i in range(n):\n",
        "    Bj=  np.delete(A, j, axis=1)\n",
        "    Bij= np.delete(Bj,i, axis=0)\n",
        "    Bij= np.linalg.det(Bij)\n",
        "    Aij= A[i,j]*Bij*(-1)**(i+j)\n",
        "    det += Aij\n",
        "print(f'det= {det}')\n",
        "\n",
        "#%%"
      ],
      "execution_count": 25,
      "outputs": [
        {
          "output_type": "stream",
          "name": "stdout",
          "text": [
            "det= -64.00000000000003\n",
            "det= -63.99999999999996\n"
          ]
        }
      ]
    },
    {
      "cell_type": "code",
      "metadata": {
        "colab": {
          "base_uri": "https://localhost:8080/"
        },
        "id": "JNURmYa2pVsO",
        "outputId": "0c94dcbf-e353-42da-f7c4-09d6bed9a113"
      },
      "source": [
        "# when n is large, it is very slow!!\n",
        "\n",
        "def ryDet(A):\n",
        "    \n",
        "    n= A.shape[0]\n",
        "    if n>1:\n",
        "        i= 0\n",
        "        det= 0\n",
        "        for j in range(n):\n",
        "            Bi=  np.delete(A, i, axis=0)\n",
        "            Bij= np.delete(Bi,j, axis=1)\n",
        "            \n",
        "            Bij= ryDet(Bij) #np.linalg.det(Bij)\n",
        "            \n",
        "            Aij= A[i,j]*Bij*(-1)**(i+j)\n",
        "            det += Aij\n",
        "        #print(f'det= {det}')\n",
        "        return det\n",
        "    \n",
        "    elif A.shape[0]==1:\n",
        "        det= A[0,0]\n",
        "        return det\n",
        "    else:\n",
        "        return None\n",
        "\n",
        "det= ryDet(A)\n",
        "print(f'det= {det}')"
      ],
      "execution_count": 26,
      "outputs": [
        {
          "output_type": "stream",
          "name": "stdout",
          "text": [
            "det= -64\n"
          ]
        }
      ]
    },
    {
      "cell_type": "code",
      "metadata": {
        "colab": {
          "base_uri": "https://localhost:8080/"
        },
        "id": "ppd82bQhpkNG",
        "outputId": "0064846d-257c-44be-d101-ed51462e110b"
      },
      "source": [
        "# when n is large, it is very slow!!\n",
        "\n",
        "print(f'A= \\n{A}')\n",
        "\n",
        "def ryDet(A):\n",
        "    \n",
        "    n= A.shape[0]\n",
        "    if n>1:\n",
        "        i= 0\n",
        "        Bi=  np.delete(A, i, axis=0)\n",
        "        #print(f'\\ni= {i}, Bi= \\n{Bi}')\n",
        "        \n",
        "        det= 0\n",
        "        for j in range(n):\n",
        "            \n",
        "            Bij= np.delete(Bi,j, axis=1)\n",
        "            print(f'\\ni,j= {i}{j}, Bij= \\n{Bij}')\n",
        "            \n",
        "            Dij= ryDet(Bij) #np.linalg.det(Bij)\n",
        "            print(f'.... Dij= {Dij}')\n",
        "            \n",
        "            Cij= A[i,j]*Dij*(-1)**(i+j)\n",
        "            det += Cij\n",
        "        #print(f'det= {det}')\n",
        "        return det\n",
        "    \n",
        "    elif A.shape[0]==1:\n",
        "        det= A[0,0]\n",
        "        return det\n",
        "    else:\n",
        "        return None\n",
        "\n",
        "det= ryDet(A)\n",
        "print(f'\\ndet= {det}')"
      ],
      "execution_count": 27,
      "outputs": [
        {
          "output_type": "stream",
          "name": "stdout",
          "text": [
            "A= \n",
            "[[ 0 -5 -2 -2]\n",
            " [ 2  4 -2  0]\n",
            " [-3 -1  2  1]\n",
            " [ 3  3 -4  1]]\n",
            "\n",
            "i,j= 00, Bij= \n",
            "[[ 4 -2  0]\n",
            " [-1  2  1]\n",
            " [ 3 -4  1]]\n",
            "\n",
            "i,j= 00, Bij= \n",
            "[[ 2  1]\n",
            " [-4  1]]\n",
            "\n",
            "i,j= 00, Bij= \n",
            "[[1]]\n",
            ".... Dij= 1\n",
            "\n",
            "i,j= 01, Bij= \n",
            "[[-4]]\n",
            ".... Dij= -4\n",
            ".... Dij= 6\n",
            "\n",
            "i,j= 01, Bij= \n",
            "[[-1  1]\n",
            " [ 3  1]]\n",
            "\n",
            "i,j= 00, Bij= \n",
            "[[1]]\n",
            ".... Dij= 1\n",
            "\n",
            "i,j= 01, Bij= \n",
            "[[3]]\n",
            ".... Dij= 3\n",
            ".... Dij= -4\n",
            "\n",
            "i,j= 02, Bij= \n",
            "[[-1  2]\n",
            " [ 3 -4]]\n",
            "\n",
            "i,j= 00, Bij= \n",
            "[[-4]]\n",
            ".... Dij= -4\n",
            "\n",
            "i,j= 01, Bij= \n",
            "[[3]]\n",
            ".... Dij= 3\n",
            ".... Dij= -2\n",
            ".... Dij= 16\n",
            "\n",
            "i,j= 01, Bij= \n",
            "[[ 2 -2  0]\n",
            " [-3  2  1]\n",
            " [ 3 -4  1]]\n",
            "\n",
            "i,j= 00, Bij= \n",
            "[[ 2  1]\n",
            " [-4  1]]\n",
            "\n",
            "i,j= 00, Bij= \n",
            "[[1]]\n",
            ".... Dij= 1\n",
            "\n",
            "i,j= 01, Bij= \n",
            "[[-4]]\n",
            ".... Dij= -4\n",
            ".... Dij= 6\n",
            "\n",
            "i,j= 01, Bij= \n",
            "[[-3  1]\n",
            " [ 3  1]]\n",
            "\n",
            "i,j= 00, Bij= \n",
            "[[1]]\n",
            ".... Dij= 1\n",
            "\n",
            "i,j= 01, Bij= \n",
            "[[3]]\n",
            ".... Dij= 3\n",
            ".... Dij= -6\n",
            "\n",
            "i,j= 02, Bij= \n",
            "[[-3  2]\n",
            " [ 3 -4]]\n",
            "\n",
            "i,j= 00, Bij= \n",
            "[[-4]]\n",
            ".... Dij= -4\n",
            "\n",
            "i,j= 01, Bij= \n",
            "[[3]]\n",
            ".... Dij= 3\n",
            ".... Dij= 6\n",
            ".... Dij= 0\n",
            "\n",
            "i,j= 02, Bij= \n",
            "[[ 2  4  0]\n",
            " [-3 -1  1]\n",
            " [ 3  3  1]]\n",
            "\n",
            "i,j= 00, Bij= \n",
            "[[-1  1]\n",
            " [ 3  1]]\n",
            "\n",
            "i,j= 00, Bij= \n",
            "[[1]]\n",
            ".... Dij= 1\n",
            "\n",
            "i,j= 01, Bij= \n",
            "[[3]]\n",
            ".... Dij= 3\n",
            ".... Dij= -4\n",
            "\n",
            "i,j= 01, Bij= \n",
            "[[-3  1]\n",
            " [ 3  1]]\n",
            "\n",
            "i,j= 00, Bij= \n",
            "[[1]]\n",
            ".... Dij= 1\n",
            "\n",
            "i,j= 01, Bij= \n",
            "[[3]]\n",
            ".... Dij= 3\n",
            ".... Dij= -6\n",
            "\n",
            "i,j= 02, Bij= \n",
            "[[-3 -1]\n",
            " [ 3  3]]\n",
            "\n",
            "i,j= 00, Bij= \n",
            "[[3]]\n",
            ".... Dij= 3\n",
            "\n",
            "i,j= 01, Bij= \n",
            "[[3]]\n",
            ".... Dij= 3\n",
            ".... Dij= -6\n",
            ".... Dij= 16\n",
            "\n",
            "i,j= 03, Bij= \n",
            "[[ 2  4 -2]\n",
            " [-3 -1  2]\n",
            " [ 3  3 -4]]\n",
            "\n",
            "i,j= 00, Bij= \n",
            "[[-1  2]\n",
            " [ 3 -4]]\n",
            "\n",
            "i,j= 00, Bij= \n",
            "[[-4]]\n",
            ".... Dij= -4\n",
            "\n",
            "i,j= 01, Bij= \n",
            "[[3]]\n",
            ".... Dij= 3\n",
            ".... Dij= -2\n",
            "\n",
            "i,j= 01, Bij= \n",
            "[[-3  2]\n",
            " [ 3 -4]]\n",
            "\n",
            "i,j= 00, Bij= \n",
            "[[-4]]\n",
            ".... Dij= -4\n",
            "\n",
            "i,j= 01, Bij= \n",
            "[[3]]\n",
            ".... Dij= 3\n",
            ".... Dij= 6\n",
            "\n",
            "i,j= 02, Bij= \n",
            "[[-3 -1]\n",
            " [ 3  3]]\n",
            "\n",
            "i,j= 00, Bij= \n",
            "[[3]]\n",
            ".... Dij= 3\n",
            "\n",
            "i,j= 01, Bij= \n",
            "[[3]]\n",
            ".... Dij= 3\n",
            ".... Dij= -6\n",
            ".... Dij= -16\n",
            "\n",
            "det= -64\n"
          ]
        }
      ]
    },
    {
      "cell_type": "code",
      "metadata": {
        "colab": {
          "base_uri": "https://localhost:8080/"
        },
        "id": "D4jS4rkcppps",
        "outputId": "04bcda16-0e54-4952-d820-908c17a4cdf1"
      },
      "source": [
        "import scipy.linalg\n",
        "\n",
        "A= [[4,3],\n",
        "    [6,3]]\n",
        "\n",
        "'''\n",
        "A= [[12, -51, 4], \n",
        "    [6, 167, -68],\n",
        "    [-4, 24, -41]]\n",
        "'''\n",
        "\n",
        "A= np.array(A)\n",
        "\n",
        "P,L,U= scipy.linalg.lu(A)\n",
        "\n",
        "# 驗算\n",
        "P @ L @ U == A\n",
        "np.isclose(P @ L @ U , A)\n",
        "np.allclose(P @ L @ U , A)\n"
      ],
      "execution_count": 28,
      "outputs": [
        {
          "output_type": "execute_result",
          "data": {
            "text/plain": [
              "True"
            ]
          },
          "metadata": {},
          "execution_count": 28
        }
      ]
    },
    {
      "cell_type": "code",
      "metadata": {
        "id": "p18NIRSmprjJ"
      },
      "source": [
        "Q,R= scipy.linalg.qr(A)\n",
        "\n",
        "# 驗算\n",
        "(Q @ R == A).all()\n",
        "\n",
        "np.allclose(Q @ R , A)\n",
        "\n",
        "# 再檢查 Q 的正交性質\n",
        "#assert Q[0]@Q[1] == 0\n",
        "#assert Q[0]@Q[0] == 1\n",
        "assert np.allclose(Q[0]@Q[1] , 0)\n",
        "assert np.allclose(Q[0]@Q[0] , 1)\n",
        "\n",
        "#%%\n",
        "λ, Q= scipy.linalg.eig(A)\n",
        "\n",
        "lmbd= λ \n",
        "# 驗算\n",
        "#assert A @ Q[:,0] == Q[:,0] * λ[0]\n",
        "\n",
        "assert np.allclose(A @ Q[:,0], Q[:,0] * λ[0] )\n",
        "\n",
        "assert np.allclose(A @ Q, Q @ np.diag(λ) )\n",
        "#%%\n",
        "U, σ, V_T= scipy.linalg.svd(A)\n",
        "\n",
        "V= V_T.T\n",
        "\n",
        "Σ= np.diag(σ)\n",
        "\n",
        "sigma= σ\n",
        "Sigma= Σ \n",
        "\n",
        "# 驗算\n",
        "\n",
        "assert np.allclose(U @  Σ @ V.T, A )\n",
        "\n",
        "# 再檢查 U, V 的正交性質\n",
        "\n",
        "assert np.allclose(U[0]@U[1] , 0)\n",
        "assert np.allclose(V[0]@V[1] , 0)\n",
        "assert np.allclose(U[0]@U[0] , 1)\n",
        "assert np.allclose(V[0]@V[0] , 1)\n",
        "\n",
        "#\n",
        "# 檢查 orthogonal , orthonormal\n",
        "#\n",
        "assert np.allclose(U@U.T, np.eye(U.shape[0]))\n",
        "assert np.allclose(V@V.T, np.eye(V.shape[0]))\n",
        "\n",
        "#\n",
        "assert np.allclose(A  @V, U@Σ)\n",
        "assert np.allclose(A.T@U, V@Σ)\n"
      ],
      "execution_count": 30,
      "outputs": []
    },
    {
      "cell_type": "code",
      "metadata": {
        "colab": {
          "base_uri": "https://localhost:8080/"
        },
        "id": "eLiFVGnep3GK",
        "outputId": "ea4a8776-8041-4c19-80a6-13b9c5b05291"
      },
      "source": [
        "import numpy as np\n",
        "import scipy.linalg as sp_linalg\n",
        "\n",
        "M= [[1,2],\n",
        "    [3,4]]\n",
        "M= np.array(M)\n",
        "U,sigma,V_T= np.linalg.svd(M)\n",
        "V= V_T.T\n",
        "MtM= M.T@M\n",
        "ld, Q= np.linalg.eig(MtM)\n",
        "#%%\n",
        "\n",
        "A= [[12, -51, 4], \n",
        "    [6, 167, -68],\n",
        "    [-4, 24, -41]]\n",
        "A= np.array(A)\n",
        "Q,R= np.linalg.qr(A)\n",
        "\n",
        "#%%\n",
        "A= [[2,1],\n",
        "    [1,2]]\n",
        "A= np.array(A)\n",
        "lmda, eigV= np.linalg.eig(A)\n",
        "#%%\n",
        "\n",
        "Q, R= np.linalg.qr(A)\n",
        "\n",
        "#%%\n",
        "U,Sigma,V_T= np.linalg.svd(A)\n",
        "V= V_T.T\n",
        "\n",
        "#%%\n",
        "A= [[1,-1],\n",
        "    [1,1]]\n",
        "A= np.array(A)\n",
        "S= np.diag([2,1])\n",
        "B= A@S@A.T\n",
        "\n",
        "print(f'A= \\n{A}, \\nS= \\n{S}, \\nB= \\n{B}')"
      ],
      "execution_count": 31,
      "outputs": [
        {
          "output_type": "stream",
          "name": "stdout",
          "text": [
            "A= \n",
            "[[ 1 -1]\n",
            " [ 1  1]], \n",
            "S= \n",
            "[[2 0]\n",
            " [0 1]], \n",
            "B= \n",
            "[[3 1]\n",
            " [1 3]]\n"
          ]
        }
      ]
    },
    {
      "cell_type": "code",
      "metadata": {
        "colab": {
          "base_uri": "https://localhost:8080/"
        },
        "id": "rdcNoXbep6UM",
        "outputId": "41911ffe-678f-4a53-b613-9d698e33b3e2"
      },
      "source": [
        "lmda, eigV= np.linalg.eig(B)\n",
        "Q, R= np.linalg.qr(B)\n",
        "U,Sigma,V_T= np.linalg.svd(B)\n",
        "V= V_T.T\n",
        "V"
      ],
      "execution_count": 33,
      "outputs": [
        {
          "output_type": "execute_result",
          "data": {
            "text/plain": [
              "array([[-0.70710678, -0.70710678],\n",
              "       [-0.70710678,  0.70710678]])"
            ]
          },
          "metadata": {},
          "execution_count": 33
        }
      ]
    },
    {
      "cell_type": "code",
      "metadata": {
        "colab": {
          "base_uri": "https://localhost:8080/"
        },
        "id": "FdH6viwUqBfY",
        "outputId": "de8f26bd-a293-469e-9c90-0fa9bd6f593c"
      },
      "source": [
        "A= [[10,1],\n",
        "    [1,10]]\n",
        "A= np.array(A)\n",
        "\n",
        "lmda, eigV= np.linalg.eig(A)\n",
        "print(A)\n",
        "print(lmda)\n",
        "print(eigV)"
      ],
      "execution_count": 40,
      "outputs": [
        {
          "output_type": "stream",
          "name": "stdout",
          "text": [
            "[[10  1]\n",
            " [ 1 10]]\n",
            "[11.  9.]\n",
            "[[ 0.70710678 -0.70710678]\n",
            " [ 0.70710678  0.70710678]]\n"
          ]
        }
      ]
    },
    {
      "cell_type": "code",
      "metadata": {
        "colab": {
          "base_uri": "https://localhost:8080/"
        },
        "id": "64XY60d7p80W",
        "outputId": "f04efbcc-8477-4b21-b22b-64d47df6533b"
      },
      "source": [
        "A= [[1,1],\n",
        "    [0,1]]\n",
        "A= np.array(A)\n",
        "\n",
        "lmda, eigV= np.linalg.eig(A)\n",
        "print(A)\n",
        "print(lmda)\n",
        "print(eigV)"
      ],
      "execution_count": 41,
      "outputs": [
        {
          "output_type": "stream",
          "name": "stdout",
          "text": [
            "[[1 1]\n",
            " [0 1]]\n",
            "[1. 1.]\n",
            "[[ 1.00000000e+00 -1.00000000e+00]\n",
            " [ 0.00000000e+00  2.22044605e-16]]\n"
          ]
        }
      ]
    },
    {
      "cell_type": "code",
      "metadata": {
        "colab": {
          "base_uri": "https://localhost:8080/"
        },
        "id": "u4iyl_Anqasa",
        "outputId": "d8db899d-2976-44c4-b6c1-fd4032a96557"
      },
      "source": [
        "A= [[4,1],\n",
        "    [1,4]]\n",
        "A= np.array(A)\n",
        "\n",
        "X= [[1,0,1,-1,-1,-1],\n",
        "    [0,1,1,+1,-1,+1]]\n",
        "X= np.array(X)\n",
        "\n",
        "Y= A@X\n",
        "print(A)\n",
        "print(X)\n",
        "print(Y)"
      ],
      "execution_count": 43,
      "outputs": [
        {
          "output_type": "stream",
          "name": "stdout",
          "text": [
            "[[4 1]\n",
            " [1 4]]\n",
            "[[ 1  0  1 -1 -1 -1]\n",
            " [ 0  1  1  1 -1  1]]\n",
            "[[ 4  1  5 -3 -5 -3]\n",
            " [ 1  4  5  3 -5  3]]\n"
          ]
        }
      ]
    },
    {
      "cell_type": "markdown",
      "metadata": {
        "id": "FtY9nmxCqmBt"
      },
      "source": [
        "ryEx002_rowOperationsLU.py"
      ]
    },
    {
      "cell_type": "code",
      "metadata": {
        "id": "G5nACja2qr9l"
      },
      "source": [
        "import numpy as np\n",
        "import scipy.linalg as sp_linalg\n",
        "import pandas as pd"
      ],
      "execution_count": 44,
      "outputs": []
    },
    {
      "cell_type": "code",
      "metadata": {
        "colab": {
          "base_uri": "https://localhost:8080/"
        },
        "id": "5cHw6UERqyV8",
        "outputId": "fbcf7a20-e8e2-4dff-ef9b-92b59f4f7fb9"
      },
      "source": [
        "#%% ry: Row Operation for 3x3 matrix\n",
        "\n",
        "A0= np.array(\n",
        "    [[1, 2, 3],\n",
        "     [4, 5, 6],\n",
        "     [7, 8, 10]])\n",
        "\n",
        "A= A0.copy()\n",
        "\n",
        "assert A[0,0] !=0 # otherwise, rowChange(A,0)\n",
        "\n",
        "c10= -A[1,0]/A[0,0]\n",
        "P10= np.array(\n",
        "    [[1, 0, 0],\n",
        "     [c10, 1, 0],\n",
        "     [0, 0, 1]])\n",
        "\n",
        "A= P10@A\n",
        "\n",
        "\n",
        "c20= -A[2,0]/A[0,0]\n",
        "P20= np.array(\n",
        "    [[1, 0, 0],\n",
        "     [0, 1, 0],\n",
        "     [c20, 0, 1]])\n",
        "\n",
        "A= P20@A\n",
        "\n",
        "assert A[1,1] !=0  # otherwise, rowChange(A,1)\n",
        "\n",
        "c21= -A[2,1]/A[1,1]\n",
        "P21= np.array(\n",
        "    [[1, 0, 0],\n",
        "     [0, 1, 0],\n",
        "     [0, c21, 1]])\n",
        "A= P21@A\n",
        "\n",
        "A1= A\n",
        "\n",
        "P= P21@P20@P10\n",
        "invP= np.linalg.inv(P)\n",
        "\n",
        "print(f'''\n",
        "A0= \n",
        "{A0}\n",
        "invP= \n",
        "{invP}\n",
        "A1= \n",
        "{A1}   \n",
        "''')"
      ],
      "execution_count": 45,
      "outputs": [
        {
          "output_type": "stream",
          "name": "stdout",
          "text": [
            "\n",
            "A0= \n",
            "[[ 1  2  3]\n",
            " [ 4  5  6]\n",
            " [ 7  8 10]]\n",
            "invP= \n",
            "[[ 1. -0. -0.]\n",
            " [ 4.  1. -0.]\n",
            " [ 7.  2.  1.]]\n",
            "A1= \n",
            "[[ 1.  2.  3.]\n",
            " [ 0. -3. -6.]\n",
            " [ 0.  0.  1.]]   \n",
            "\n"
          ]
        }
      ]
    },
    {
      "cell_type": "code",
      "metadata": {
        "id": "ffUZ7j_Yq2lW"
      },
      "source": [
        "A1= np.array(\n",
        "    [[1]])\n",
        "\n",
        "A2= np.array(\n",
        "    [[2,1],\n",
        "     [1,2]])\n",
        "\n",
        "A3= np.array(\n",
        "    [[3, 2, 1],\n",
        "     [2, 3, 2],\n",
        "     [1, 2, 3]])"
      ],
      "execution_count": 46,
      "outputs": []
    },
    {
      "cell_type": "code",
      "metadata": {
        "colab": {
          "base_uri": "https://localhost:8080/"
        },
        "id": "IN3nCUi3rAdV",
        "outputId": "443e97c9-475d-47be-8f63-4fc287612e75"
      },
      "source": [
        "#%% ry\n",
        "\n",
        "\n",
        "# Create matrix using NumPy\n",
        "A= [[2,4],\n",
        "    [5,7]]\n",
        "\n",
        "A= np.array(A)\n",
        "\n",
        "# Find matrix det, inv, matrix rank, and matrix maultiplication\n",
        "\n",
        "\n",
        "detA=   np.linalg.det(A)\n",
        "invA=   np.linalg.inv(A)\n",
        "A_invA= A@invA\n",
        "\n",
        "rankA= np.linalg.matrix_rank(A)\n",
        "\n",
        "print(f'''\n",
        "A= \n",
        "{A}      \n",
        "detA= \n",
        "{detA}\n",
        "invA= \n",
        "{invA}\n",
        "A_invA= \n",
        "{A_invA}\n",
        "rankA= {rankA}\n",
        "''')\n",
        "\n",
        "assert np.allclose(\n",
        "    A_invA,\n",
        "    np.eye(A.shape[0]))\n",
        "\n",
        "#%%\n",
        "#\n",
        "# Solving linear equations using NumPy\n",
        "#\n",
        "b= [1,-1]\n",
        "b= np.array(b)\n",
        "\n",
        "x= np.linalg.solve(A, b)\n",
        "print(f'x= {x}')\n",
        "\n",
        "assert np.allclose(\n",
        "    A@x, \n",
        "    b)\n",
        "\n",
        "\n",
        "#%%\n",
        "\n",
        "# Decomposing a matrix using SVD\n",
        "\n",
        "U,σ,V_T= np.linalg.svd(A)\n",
        "\n",
        "\n",
        "print(f'''\n",
        "U= \n",
        "{U},\n",
        "σ= \n",
        "{σ},\n",
        "V_T= \n",
        "{V_T}      \n",
        "''')\n",
        "\n",
        "assert np.allclose(\n",
        "    A,\n",
        "    U@np.diag(σ)@V_T\n",
        "    )\n"
      ],
      "execution_count": 47,
      "outputs": [
        {
          "output_type": "stream",
          "name": "stdout",
          "text": [
            "\n",
            "A= \n",
            "[[2 4]\n",
            " [5 7]]      \n",
            "detA= \n",
            "-5.999999999999998\n",
            "invA= \n",
            "[[-1.16666667  0.66666667]\n",
            " [ 0.83333333 -0.33333333]]\n",
            "A_invA= \n",
            "[[1.0000000e+00 0.0000000e+00]\n",
            " [4.4408921e-16 1.0000000e+00]]\n",
            "rankA= 2\n",
            "\n",
            "x= [-1.83333333  1.16666667]\n",
            "\n",
            "U= \n",
            "[[-0.45868991 -0.8885964 ]\n",
            " [-0.8885964   0.45868991]],\n",
            "σ= \n",
            "[9.67550764 0.6201225 ],\n",
            "V_T= \n",
            "[[-0.5540135  -0.83250768]\n",
            " [ 0.83250768 -0.5540135 ]]      \n",
            "\n"
          ]
        }
      ]
    },
    {
      "cell_type": "code",
      "metadata": {
        "colab": {
          "base_uri": "https://localhost:8080/"
        },
        "id": "Gg4AcKrVrCJE",
        "outputId": "40bf1f29-c0be-40d0-fd0c-80c832e8497b"
      },
      "source": [
        "#\n",
        "# Eigenvectors and Eigenvalues using NumPy\n",
        "#\n",
        "\n",
        "λ, E= np.linalg.eig(A)\n",
        "\n",
        "print(f'''\n",
        "A=\n",
        "{A}\n",
        "λ= \n",
        "{λ},\n",
        "E= \n",
        "{E},   \n",
        "''')\n",
        "\n",
        "assert np.allclose(\n",
        "    A,\n",
        "    E @ np.diag(λ) @ np.linalg.inv(E)\n",
        "    )\n"
      ],
      "execution_count": 48,
      "outputs": [
        {
          "output_type": "stream",
          "name": "stdout",
          "text": [
            "\n",
            "A=\n",
            "[[2 4]\n",
            " [5 7]]\n",
            "λ= \n",
            "[-0.62347538  9.62347538],\n",
            "E= \n",
            "[[-0.83619408 -0.46462222]\n",
            " [ 0.54843365 -0.885509  ]],   \n",
            "\n"
          ]
        }
      ]
    },
    {
      "cell_type": "code",
      "metadata": {
        "colab": {
          "base_uri": "https://localhost:8080/"
        },
        "id": "Jcfs9AHyrE4J",
        "outputId": "885d61bf-bc8d-4e1d-94d5-e4097c4e9b7d"
      },
      "source": [
        "B= A.T@A\n",
        "\n",
        "λ1, E1= np.linalg.eig(B)\n",
        "\n",
        "print(f'''\n",
        "B=\n",
        "{B},\n",
        "λ1= \n",
        "{λ1},\n",
        "E1= \n",
        "{E1},   \n",
        "''')\n",
        "\n",
        "assert np.allclose(\n",
        "    B,\n",
        "    E1 @ np.diag(λ1) @ np.linalg.inv(E1)\n",
        "    )\n",
        "L= np.linalg.cholesky(A@A.T)\n",
        "L"
      ],
      "execution_count": 51,
      "outputs": [
        {
          "output_type": "stream",
          "name": "stdout",
          "text": [
            "\n",
            "B=\n",
            "[[29 43]\n",
            " [43 65]],\n",
            "λ1= \n",
            "[ 0.38455192 93.61544808],\n",
            "E1= \n",
            "[[-0.83250768 -0.5540135 ]\n",
            " [ 0.5540135  -0.83250768]],   \n",
            "\n"
          ]
        },
        {
          "output_type": "execute_result",
          "data": {
            "text/plain": [
              "array([[4.47213595, 0.        ],\n",
              "       [8.49705831, 1.34164079]])"
            ]
          },
          "metadata": {},
          "execution_count": 51
        }
      ]
    },
    {
      "cell_type": "code",
      "metadata": {
        "colab": {
          "base_uri": "https://localhost:8080/"
        },
        "id": "uhMFTX7prTc6",
        "outputId": "28715050-d302-4098-e7f4-a58073b189ea"
      },
      "source": [
        "#\n",
        "# for symmtric matrix\n",
        "#\n",
        "\n",
        "C= np.array(\n",
        "    [[2,1],\n",
        "     [1,2]])\n",
        "\n",
        "ans= {\n",
        "    'rnk':  np.linalg.matrix_rank(C),\n",
        "    'det':  np.linalg.det(C),\n",
        "    'inv':  np.linalg.inv(C),\n",
        "    'ch':   np.linalg.cholesky(C),\n",
        "    'qr':   np.linalg.qr(C),\n",
        "    'eig':  np.linalg.eig(C),\n",
        "    'svd':  np.linalg.svd(C)\n",
        "    }\n",
        "\n",
        "print(ans)\n",
        "\n",
        "#%%\n",
        "C= np.array(\n",
        "    [[3,2,1],\n",
        "     [2,3,2],\n",
        "     [1,2,3]])\n",
        "\n",
        "ans= {\n",
        "    'rnk':  np.linalg.matrix_rank(C),\n",
        "    'det':  np.linalg.det(C),\n",
        "    'inv':  np.linalg.inv(C),\n",
        "    'ch':   np.linalg.cholesky(C),\n",
        "    'qr':   np.linalg.qr(C),\n",
        "    'eig':  np.linalg.eig(C),\n",
        "    'svd':  np.linalg.svd(C)\n",
        "    }\n",
        "\n",
        "print(ans)"
      ],
      "execution_count": 52,
      "outputs": [
        {
          "output_type": "stream",
          "name": "stdout",
          "text": [
            "{'rnk': 2, 'det': 2.9999999999999996, 'inv': array([[ 0.66666667, -0.33333333],\n",
            "       [-0.33333333,  0.66666667]]), 'ch': array([[1.41421356, 0.        ],\n",
            "       [0.70710678, 1.22474487]]), 'qr': (array([[-0.89442719, -0.4472136 ],\n",
            "       [-0.4472136 ,  0.89442719]]), array([[-2.23606798, -1.78885438],\n",
            "       [ 0.        ,  1.34164079]])), 'eig': (array([3., 1.]), array([[ 0.70710678, -0.70710678],\n",
            "       [ 0.70710678,  0.70710678]])), 'svd': (array([[-0.70710678, -0.70710678],\n",
            "       [-0.70710678,  0.70710678]]), array([3., 1.]), array([[-0.70710678, -0.70710678],\n",
            "       [-0.70710678,  0.70710678]]))}\n",
            "{'rnk': 3, 'det': 8.000000000000002, 'inv': array([[ 0.625, -0.5  ,  0.125],\n",
            "       [-0.5  ,  1.   , -0.5  ],\n",
            "       [ 0.125, -0.5  ,  0.625]]), 'ch': array([[1.73205081, 0.        , 0.        ],\n",
            "       [1.15470054, 1.29099445, 0.        ],\n",
            "       [0.57735027, 1.03279556, 1.26491106]]), 'qr': (array([[-0.80178373,  0.57735027,  0.15430335],\n",
            "       [-0.53452248, -0.57735027, -0.6172134 ],\n",
            "       [-0.26726124, -0.57735027,  0.77151675]]), array([[-3.74165739, -3.74165739, -2.67261242],\n",
            "       [ 0.        , -1.73205081, -2.30940108],\n",
            "       [ 0.        ,  0.        ,  1.2344268 ]])), 'eig': (array([6.37228132, 2.        , 0.62771868]), array([[-5.41774320e-01, -7.07106781e-01,  4.54401349e-01],\n",
            "       [-6.42620551e-01, -2.42253435e-16, -7.66184591e-01],\n",
            "       [-5.41774320e-01,  7.07106781e-01,  4.54401349e-01]])), 'svd': (array([[-5.41774320e-01,  7.07106781e-01,  4.54401349e-01],\n",
            "       [-6.42620551e-01,  3.84456155e-16, -7.66184591e-01],\n",
            "       [-5.41774320e-01, -7.07106781e-01,  4.54401349e-01]]), array([6.37228132, 2.        , 0.62771868]), array([[-5.41774320e-01, -6.42620551e-01, -5.41774320e-01],\n",
            "       [ 7.07106781e-01,  1.26126502e-16, -7.07106781e-01],\n",
            "       [ 4.54401349e-01, -7.66184591e-01,  4.54401349e-01]]))}\n"
          ]
        }
      ]
    }
  ]
}